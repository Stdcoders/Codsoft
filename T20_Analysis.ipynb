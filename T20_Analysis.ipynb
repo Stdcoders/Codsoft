{
  "nbformat": 4,
  "nbformat_minor": 0,
  "metadata": {
    "colab": {
      "provenance": [],
      "authorship_tag": "ABX9TyNz3UNoVpQ7gCSyr1sDUAwC",
      "include_colab_link": true
    },
    "kernelspec": {
      "name": "python3",
      "display_name": "Python 3"
    },
    "language_info": {
      "name": "python"
    }
  },
  "cells": [
    {
      "cell_type": "markdown",
      "metadata": {
        "id": "view-in-github",
        "colab_type": "text"
      },
      "source": [
        "<a href=\"https://colab.research.google.com/github/Stdcoders/Codsoft/blob/machine_learning/T20_Analysis.ipynb\" target=\"_parent\"><img src=\"https://colab.research.google.com/assets/colab-badge.svg\" alt=\"Open In Colab\"/></a>"
      ]
    },
    {
      "cell_type": "code",
      "execution_count": null,
      "metadata": {
        "id": "qqh99VPFTmtu"
      },
      "outputs": [],
      "source": [
        "import numpy as np\n",
        "import matplotlib.pyplot as plt\n",
        "import pandas as pd\n",
        "import seaborn as sns\n",
        "from sklearn.model_selection import train_test_split\n",
        "from sklearn.linear_model import LogisticRegression\n",
        "from sklearn.metrics import accuracy_score\n",
        "from sklearn.preprocessing import StandardScaler\n",
        "import plotly.graph_objs as go\n",
        "import plotly.express as px\n",
        "from plotly.subplots import make_subplots"
      ]
    },
    {
      "cell_type": "code",
      "source": [
        "!git clone https://github.com/Stdcoders/my_ml_projects.git"
      ],
      "metadata": {
        "colab": {
          "base_uri": "https://localhost:8080/"
        },
        "id": "b-jiiYTz63xb",
        "outputId": "5898bc4c-5c83-4a93-a25e-dd6f555edf6d"
      },
      "execution_count": 76,
      "outputs": [
        {
          "output_type": "stream",
          "name": "stdout",
          "text": [
            "Cloning into 'my_ml_projects'...\n",
            "fatal: could not read Username for 'https://github.com': No such device or address\n"
          ]
        }
      ]
    },
    {
      "cell_type": "code",
      "source": [
        "!pip install plotly\n"
      ],
      "metadata": {
        "colab": {
          "base_uri": "https://localhost:8080/"
        },
        "id": "FF8pLZ6PZjbg",
        "outputId": "8ddf5a6c-c971-434f-f3ce-43c42b992df8"
      },
      "execution_count": null,
      "outputs": [
        {
          "output_type": "stream",
          "name": "stdout",
          "text": [
            "Requirement already satisfied: plotly in /usr/local/lib/python3.10/dist-packages (5.15.0)\n",
            "Requirement already satisfied: tenacity>=6.2.0 in /usr/local/lib/python3.10/dist-packages (from plotly) (8.5.0)\n",
            "Requirement already satisfied: packaging in /usr/local/lib/python3.10/dist-packages (from plotly) (24.1)\n"
          ]
        }
      ]
    },
    {
      "cell_type": "code",
      "source": [
        "batting = pd.read_csv('/content/batting_stats_for_icc_mens_t20_world_cup_2024.csv')\n",
        "batting.head()"
      ],
      "metadata": {
        "colab": {
          "base_uri": "https://localhost:8080/",
          "height": 206
        },
        "id": "IqXiDZJ-Uc5q",
        "outputId": "70b2213a-d096-4b17-f69f-9b6151e97863"
      },
      "execution_count": null,
      "outputs": [
        {
          "output_type": "execute_result",
          "data": {
            "text/plain": [
              "         Player                      Team  Mat  Inns  NO  Runs   HS   Ave  \\\n",
              "0    NP Kenjige  United States of America    4     2   0     1    1   0.5   \n",
              "1   Aaron Jones  United States of America    6     6   2   162  94*  40.5   \n",
              "2  Aasif Sheikh                     Nepal    3     3   0    63   42  21.0   \n",
              "3  Abbas Afridi                  Pakistan    1     1   0    17   17  17.0   \n",
              "4     F Achelam                    Uganda    1     1   0     9    9   9.0   \n",
              "\n",
              "       SR  100  50  0  \n",
              "0   25.00    0   0  1  \n",
              "1  135.00    0   1  1  \n",
              "2   88.73    0   0  0  \n",
              "3   80.95    0   0  0  \n",
              "4   69.23    0   0  0  "
            ],
            "text/html": [
              "\n",
              "  <div id=\"df-b359984b-577d-48bc-80f2-451f133a21f8\" class=\"colab-df-container\">\n",
              "    <div>\n",
              "<style scoped>\n",
              "    .dataframe tbody tr th:only-of-type {\n",
              "        vertical-align: middle;\n",
              "    }\n",
              "\n",
              "    .dataframe tbody tr th {\n",
              "        vertical-align: top;\n",
              "    }\n",
              "\n",
              "    .dataframe thead th {\n",
              "        text-align: right;\n",
              "    }\n",
              "</style>\n",
              "<table border=\"1\" class=\"dataframe\">\n",
              "  <thead>\n",
              "    <tr style=\"text-align: right;\">\n",
              "      <th></th>\n",
              "      <th>Player</th>\n",
              "      <th>Team</th>\n",
              "      <th>Mat</th>\n",
              "      <th>Inns</th>\n",
              "      <th>NO</th>\n",
              "      <th>Runs</th>\n",
              "      <th>HS</th>\n",
              "      <th>Ave</th>\n",
              "      <th>SR</th>\n",
              "      <th>100</th>\n",
              "      <th>50</th>\n",
              "      <th>0</th>\n",
              "    </tr>\n",
              "  </thead>\n",
              "  <tbody>\n",
              "    <tr>\n",
              "      <th>0</th>\n",
              "      <td>NP Kenjige</td>\n",
              "      <td>United States of America</td>\n",
              "      <td>4</td>\n",
              "      <td>2</td>\n",
              "      <td>0</td>\n",
              "      <td>1</td>\n",
              "      <td>1</td>\n",
              "      <td>0.5</td>\n",
              "      <td>25.00</td>\n",
              "      <td>0</td>\n",
              "      <td>0</td>\n",
              "      <td>1</td>\n",
              "    </tr>\n",
              "    <tr>\n",
              "      <th>1</th>\n",
              "      <td>Aaron Jones</td>\n",
              "      <td>United States of America</td>\n",
              "      <td>6</td>\n",
              "      <td>6</td>\n",
              "      <td>2</td>\n",
              "      <td>162</td>\n",
              "      <td>94*</td>\n",
              "      <td>40.5</td>\n",
              "      <td>135.00</td>\n",
              "      <td>0</td>\n",
              "      <td>1</td>\n",
              "      <td>1</td>\n",
              "    </tr>\n",
              "    <tr>\n",
              "      <th>2</th>\n",
              "      <td>Aasif Sheikh</td>\n",
              "      <td>Nepal</td>\n",
              "      <td>3</td>\n",
              "      <td>3</td>\n",
              "      <td>0</td>\n",
              "      <td>63</td>\n",
              "      <td>42</td>\n",
              "      <td>21.0</td>\n",
              "      <td>88.73</td>\n",
              "      <td>0</td>\n",
              "      <td>0</td>\n",
              "      <td>0</td>\n",
              "    </tr>\n",
              "    <tr>\n",
              "      <th>3</th>\n",
              "      <td>Abbas Afridi</td>\n",
              "      <td>Pakistan</td>\n",
              "      <td>1</td>\n",
              "      <td>1</td>\n",
              "      <td>0</td>\n",
              "      <td>17</td>\n",
              "      <td>17</td>\n",
              "      <td>17.0</td>\n",
              "      <td>80.95</td>\n",
              "      <td>0</td>\n",
              "      <td>0</td>\n",
              "      <td>0</td>\n",
              "    </tr>\n",
              "    <tr>\n",
              "      <th>4</th>\n",
              "      <td>F Achelam</td>\n",
              "      <td>Uganda</td>\n",
              "      <td>1</td>\n",
              "      <td>1</td>\n",
              "      <td>0</td>\n",
              "      <td>9</td>\n",
              "      <td>9</td>\n",
              "      <td>9.0</td>\n",
              "      <td>69.23</td>\n",
              "      <td>0</td>\n",
              "      <td>0</td>\n",
              "      <td>0</td>\n",
              "    </tr>\n",
              "  </tbody>\n",
              "</table>\n",
              "</div>\n",
              "    <div class=\"colab-df-buttons\">\n",
              "\n",
              "  <div class=\"colab-df-container\">\n",
              "    <button class=\"colab-df-convert\" onclick=\"convertToInteractive('df-b359984b-577d-48bc-80f2-451f133a21f8')\"\n",
              "            title=\"Convert this dataframe to an interactive table.\"\n",
              "            style=\"display:none;\">\n",
              "\n",
              "  <svg xmlns=\"http://www.w3.org/2000/svg\" height=\"24px\" viewBox=\"0 -960 960 960\">\n",
              "    <path d=\"M120-120v-720h720v720H120Zm60-500h600v-160H180v160Zm220 220h160v-160H400v160Zm0 220h160v-160H400v160ZM180-400h160v-160H180v160Zm440 0h160v-160H620v160ZM180-180h160v-160H180v160Zm440 0h160v-160H620v160Z\"/>\n",
              "  </svg>\n",
              "    </button>\n",
              "\n",
              "  <style>\n",
              "    .colab-df-container {\n",
              "      display:flex;\n",
              "      gap: 12px;\n",
              "    }\n",
              "\n",
              "    .colab-df-convert {\n",
              "      background-color: #E8F0FE;\n",
              "      border: none;\n",
              "      border-radius: 50%;\n",
              "      cursor: pointer;\n",
              "      display: none;\n",
              "      fill: #1967D2;\n",
              "      height: 32px;\n",
              "      padding: 0 0 0 0;\n",
              "      width: 32px;\n",
              "    }\n",
              "\n",
              "    .colab-df-convert:hover {\n",
              "      background-color: #E2EBFA;\n",
              "      box-shadow: 0px 1px 2px rgba(60, 64, 67, 0.3), 0px 1px 3px 1px rgba(60, 64, 67, 0.15);\n",
              "      fill: #174EA6;\n",
              "    }\n",
              "\n",
              "    .colab-df-buttons div {\n",
              "      margin-bottom: 4px;\n",
              "    }\n",
              "\n",
              "    [theme=dark] .colab-df-convert {\n",
              "      background-color: #3B4455;\n",
              "      fill: #D2E3FC;\n",
              "    }\n",
              "\n",
              "    [theme=dark] .colab-df-convert:hover {\n",
              "      background-color: #434B5C;\n",
              "      box-shadow: 0px 1px 3px 1px rgba(0, 0, 0, 0.15);\n",
              "      filter: drop-shadow(0px 1px 2px rgba(0, 0, 0, 0.3));\n",
              "      fill: #FFFFFF;\n",
              "    }\n",
              "  </style>\n",
              "\n",
              "    <script>\n",
              "      const buttonEl =\n",
              "        document.querySelector('#df-b359984b-577d-48bc-80f2-451f133a21f8 button.colab-df-convert');\n",
              "      buttonEl.style.display =\n",
              "        google.colab.kernel.accessAllowed ? 'block' : 'none';\n",
              "\n",
              "      async function convertToInteractive(key) {\n",
              "        const element = document.querySelector('#df-b359984b-577d-48bc-80f2-451f133a21f8');\n",
              "        const dataTable =\n",
              "          await google.colab.kernel.invokeFunction('convertToInteractive',\n",
              "                                                    [key], {});\n",
              "        if (!dataTable) return;\n",
              "\n",
              "        const docLinkHtml = 'Like what you see? Visit the ' +\n",
              "          '<a target=\"_blank\" href=https://colab.research.google.com/notebooks/data_table.ipynb>data table notebook</a>'\n",
              "          + ' to learn more about interactive tables.';\n",
              "        element.innerHTML = '';\n",
              "        dataTable['output_type'] = 'display_data';\n",
              "        await google.colab.output.renderOutput(dataTable, element);\n",
              "        const docLink = document.createElement('div');\n",
              "        docLink.innerHTML = docLinkHtml;\n",
              "        element.appendChild(docLink);\n",
              "      }\n",
              "    </script>\n",
              "  </div>\n",
              "\n",
              "\n",
              "<div id=\"df-7e4973b7-dc12-4fe1-a7be-c05bad93e27d\">\n",
              "  <button class=\"colab-df-quickchart\" onclick=\"quickchart('df-7e4973b7-dc12-4fe1-a7be-c05bad93e27d')\"\n",
              "            title=\"Suggest charts\"\n",
              "            style=\"display:none;\">\n",
              "\n",
              "<svg xmlns=\"http://www.w3.org/2000/svg\" height=\"24px\"viewBox=\"0 0 24 24\"\n",
              "     width=\"24px\">\n",
              "    <g>\n",
              "        <path d=\"M19 3H5c-1.1 0-2 .9-2 2v14c0 1.1.9 2 2 2h14c1.1 0 2-.9 2-2V5c0-1.1-.9-2-2-2zM9 17H7v-7h2v7zm4 0h-2V7h2v10zm4 0h-2v-4h2v4z\"/>\n",
              "    </g>\n",
              "</svg>\n",
              "  </button>\n",
              "\n",
              "<style>\n",
              "  .colab-df-quickchart {\n",
              "      --bg-color: #E8F0FE;\n",
              "      --fill-color: #1967D2;\n",
              "      --hover-bg-color: #E2EBFA;\n",
              "      --hover-fill-color: #174EA6;\n",
              "      --disabled-fill-color: #AAA;\n",
              "      --disabled-bg-color: #DDD;\n",
              "  }\n",
              "\n",
              "  [theme=dark] .colab-df-quickchart {\n",
              "      --bg-color: #3B4455;\n",
              "      --fill-color: #D2E3FC;\n",
              "      --hover-bg-color: #434B5C;\n",
              "      --hover-fill-color: #FFFFFF;\n",
              "      --disabled-bg-color: #3B4455;\n",
              "      --disabled-fill-color: #666;\n",
              "  }\n",
              "\n",
              "  .colab-df-quickchart {\n",
              "    background-color: var(--bg-color);\n",
              "    border: none;\n",
              "    border-radius: 50%;\n",
              "    cursor: pointer;\n",
              "    display: none;\n",
              "    fill: var(--fill-color);\n",
              "    height: 32px;\n",
              "    padding: 0;\n",
              "    width: 32px;\n",
              "  }\n",
              "\n",
              "  .colab-df-quickchart:hover {\n",
              "    background-color: var(--hover-bg-color);\n",
              "    box-shadow: 0 1px 2px rgba(60, 64, 67, 0.3), 0 1px 3px 1px rgba(60, 64, 67, 0.15);\n",
              "    fill: var(--button-hover-fill-color);\n",
              "  }\n",
              "\n",
              "  .colab-df-quickchart-complete:disabled,\n",
              "  .colab-df-quickchart-complete:disabled:hover {\n",
              "    background-color: var(--disabled-bg-color);\n",
              "    fill: var(--disabled-fill-color);\n",
              "    box-shadow: none;\n",
              "  }\n",
              "\n",
              "  .colab-df-spinner {\n",
              "    border: 2px solid var(--fill-color);\n",
              "    border-color: transparent;\n",
              "    border-bottom-color: var(--fill-color);\n",
              "    animation:\n",
              "      spin 1s steps(1) infinite;\n",
              "  }\n",
              "\n",
              "  @keyframes spin {\n",
              "    0% {\n",
              "      border-color: transparent;\n",
              "      border-bottom-color: var(--fill-color);\n",
              "      border-left-color: var(--fill-color);\n",
              "    }\n",
              "    20% {\n",
              "      border-color: transparent;\n",
              "      border-left-color: var(--fill-color);\n",
              "      border-top-color: var(--fill-color);\n",
              "    }\n",
              "    30% {\n",
              "      border-color: transparent;\n",
              "      border-left-color: var(--fill-color);\n",
              "      border-top-color: var(--fill-color);\n",
              "      border-right-color: var(--fill-color);\n",
              "    }\n",
              "    40% {\n",
              "      border-color: transparent;\n",
              "      border-right-color: var(--fill-color);\n",
              "      border-top-color: var(--fill-color);\n",
              "    }\n",
              "    60% {\n",
              "      border-color: transparent;\n",
              "      border-right-color: var(--fill-color);\n",
              "    }\n",
              "    80% {\n",
              "      border-color: transparent;\n",
              "      border-right-color: var(--fill-color);\n",
              "      border-bottom-color: var(--fill-color);\n",
              "    }\n",
              "    90% {\n",
              "      border-color: transparent;\n",
              "      border-bottom-color: var(--fill-color);\n",
              "    }\n",
              "  }\n",
              "</style>\n",
              "\n",
              "  <script>\n",
              "    async function quickchart(key) {\n",
              "      const quickchartButtonEl =\n",
              "        document.querySelector('#' + key + ' button');\n",
              "      quickchartButtonEl.disabled = true;  // To prevent multiple clicks.\n",
              "      quickchartButtonEl.classList.add('colab-df-spinner');\n",
              "      try {\n",
              "        const charts = await google.colab.kernel.invokeFunction(\n",
              "            'suggestCharts', [key], {});\n",
              "      } catch (error) {\n",
              "        console.error('Error during call to suggestCharts:', error);\n",
              "      }\n",
              "      quickchartButtonEl.classList.remove('colab-df-spinner');\n",
              "      quickchartButtonEl.classList.add('colab-df-quickchart-complete');\n",
              "    }\n",
              "    (() => {\n",
              "      let quickchartButtonEl =\n",
              "        document.querySelector('#df-7e4973b7-dc12-4fe1-a7be-c05bad93e27d button');\n",
              "      quickchartButtonEl.style.display =\n",
              "        google.colab.kernel.accessAllowed ? 'block' : 'none';\n",
              "    })();\n",
              "  </script>\n",
              "</div>\n",
              "\n",
              "    </div>\n",
              "  </div>\n"
            ],
            "application/vnd.google.colaboratory.intrinsic+json": {
              "type": "dataframe",
              "variable_name": "batting",
              "summary": "{\n  \"name\": \"batting\",\n  \"rows\": 247,\n  \"fields\": [\n    {\n      \"column\": \"Player\",\n      \"properties\": {\n        \"dtype\": \"string\",\n        \"num_unique_values\": 247,\n        \"samples\": [\n          \"JT Brassell\",\n          \"AC Agar\",\n          \"AU Rashid\"\n        ],\n        \"semantic_type\": \"\",\n        \"description\": \"\"\n      }\n    },\n    {\n      \"column\": \"Team\",\n      \"properties\": {\n        \"dtype\": \"category\",\n        \"num_unique_values\": 20,\n        \"samples\": [\n          \"United States of America\",\n          \"South Africa\",\n          \"Namibia\"\n        ],\n        \"semantic_type\": \"\",\n        \"description\": \"\"\n      }\n    },\n    {\n      \"column\": \"Mat\",\n      \"properties\": {\n        \"dtype\": \"number\",\n        \"std\": 2,\n        \"min\": 1,\n        \"max\": 9,\n        \"num_unique_values\": 9,\n        \"samples\": [\n          7,\n          6,\n          8\n        ],\n        \"semantic_type\": \"\",\n        \"description\": \"\"\n      }\n    },\n    {\n      \"column\": \"Inns\",\n      \"properties\": {\n        \"dtype\": \"number\",\n        \"std\": 2,\n        \"min\": 1,\n        \"max\": 9,\n        \"num_unique_values\": 9,\n        \"samples\": [\n          7,\n          6,\n          4\n        ],\n        \"semantic_type\": \"\",\n        \"description\": \"\"\n      }\n    },\n    {\n      \"column\": \"NO\",\n      \"properties\": {\n        \"dtype\": \"number\",\n        \"std\": 0,\n        \"min\": 0,\n        \"max\": 4,\n        \"num_unique_values\": 5,\n        \"samples\": [\n          2,\n          4,\n          1\n        ],\n        \"semantic_type\": \"\",\n        \"description\": \"\"\n      }\n    },\n    {\n      \"column\": \"Runs\",\n      \"properties\": {\n        \"dtype\": \"number\",\n        \"std\": 58,\n        \"min\": 0,\n        \"max\": 281,\n        \"num_unique_values\": 114,\n        \"samples\": [\n          132,\n          9,\n          20\n        ],\n        \"semantic_type\": \"\",\n        \"description\": \"\"\n      }\n    },\n    {\n      \"column\": \"HS\",\n      \"properties\": {\n        \"dtype\": \"category\",\n        \"num_unique_values\": 101,\n        \"samples\": [\n          \"41\",\n          \"5*\",\n          \"13*\"\n        ],\n        \"semantic_type\": \"\",\n        \"description\": \"\"\n      }\n    },\n    {\n      \"column\": \"Ave\",\n      \"properties\": {\n        \"dtype\": \"number\",\n        \"std\": 14.191932005111951,\n        \"min\": 0.0,\n        \"max\": 102.0,\n        \"num_unique_values\": 129,\n        \"samples\": [\n          53.5,\n          6.66,\n          0.0\n        ],\n        \"semantic_type\": \"\",\n        \"description\": \"\"\n      }\n    },\n    {\n      \"column\": \"SR\",\n      \"properties\": {\n        \"dtype\": \"number\",\n        \"std\": 46.13560642880545,\n        \"min\": 0.0,\n        \"max\": 250.0,\n        \"num_unique_values\": 175,\n        \"samples\": [\n          96.2,\n          30.0,\n          124.0\n        ],\n        \"semantic_type\": \"\",\n        \"description\": \"\"\n      }\n    },\n    {\n      \"column\": \"100\",\n      \"properties\": {\n        \"dtype\": \"number\",\n        \"std\": 0,\n        \"min\": 0,\n        \"max\": 0,\n        \"num_unique_values\": 1,\n        \"samples\": [\n          0\n        ],\n        \"semantic_type\": \"\",\n        \"description\": \"\"\n      }\n    },\n    {\n      \"column\": \"50\",\n      \"properties\": {\n        \"dtype\": \"number\",\n        \"std\": 0,\n        \"min\": 0,\n        \"max\": 3,\n        \"num_unique_values\": 4,\n        \"samples\": [\n          1\n        ],\n        \"semantic_type\": \"\",\n        \"description\": \"\"\n      }\n    },\n    {\n      \"column\": \"0\",\n      \"properties\": {\n        \"dtype\": \"number\",\n        \"std\": 0,\n        \"min\": 0,\n        \"max\": 3,\n        \"num_unique_values\": 4,\n        \"samples\": [\n          0\n        ],\n        \"semantic_type\": \"\",\n        \"description\": \"\"\n      }\n    }\n  ]\n}"
            }
          },
          "metadata": {},
          "execution_count": 5
        }
      ]
    },
    {
      "cell_type": "code",
      "source": [
        "#team names with their highest scores\n",
        "fig = go.Figure()\n",
        "fig.add_trace(go.Bar(x=batting['Team'],y=batting['Runs'],name='Runs'))\n",
        "fig.update_layout(title='Team and their scores',xaxis_title='Team',yaxis_title='Runs',barmode='group')"
      ],
      "metadata": {
        "colab": {
          "base_uri": "https://localhost:8080/",
          "height": 542
        },
        "id": "gDVAXzRhYF4N",
        "outputId": "2d985892-ed47-49de-e5f8-fe6296ec5c2c"
      },
      "execution_count": null,
      "outputs": [
        {
          "output_type": "display_data",
          "data": {
            "text/html": [
              "<html>\n",
              "<head><meta charset=\"utf-8\" /></head>\n",
              "<body>\n",
              "    <div>            <script src=\"https://cdnjs.cloudflare.com/ajax/libs/mathjax/2.7.5/MathJax.js?config=TeX-AMS-MML_SVG\"></script><script type=\"text/javascript\">if (window.MathJax && window.MathJax.Hub && window.MathJax.Hub.Config) {window.MathJax.Hub.Config({SVG: {font: \"STIX-Web\"}});}</script>                <script type=\"text/javascript\">window.PlotlyConfig = {MathJaxConfig: 'local'};</script>\n",
              "        <script charset=\"utf-8\" src=\"https://cdn.plot.ly/plotly-2.24.1.min.js\"></script>                <div id=\"0f45d74d-07a6-4399-9fab-9738b743cfae\" class=\"plotly-graph-div\" style=\"height:525px; width:100%;\"></div>            <script type=\"text/javascript\">                                    window.PLOTLYENV=window.PLOTLYENV || {};                                    if (document.getElementById(\"0f45d74d-07a6-4399-9fab-9738b743cfae\")) {                    Plotly.newPlot(                        \"0f45d74d-07a6-4399-9fab-9738b743cfae\",                        [{\"name\":\"Runs\",\"x\":[\"United States of America\",\"United States of America\",\"Nepal\",\"Pakistan\",\"Uganda\",\"Ireland\",\"Australia\",\"Nepal\",\"England\",\"United States of America\",\"New Zealand\",\"Papua New Guinea\",\"United States of America\",\"Oman\",\"England\",\"India\",\"Sri Lanka\",\"Oman\",\"Oman\",\"Pakistan\",\"Afghanistan\",\"Pakistan\",\"England\",\"Canada\",\"Ireland\",\"Papua New Guinea\",\"Scotland\",\"Nepal\",\"Uganda\",\"Oman\",\"Nepal\",\"New Zealand\",\"New Zealand\",\"Namibia\",\"England\",\"India\",\"England\",\"Ireland\",\"New Zealand\",\"West Indies\",\"West Indies\",\"New Zealand\",\"Scotland\",\"Australia\",\"England\",\"Australia\",\"Namibia\",\"South Africa\",\"Ireland\",\"Netherlands\",\"Sri Lanka\",\"Nepal\",\"Canada\",\"Ireland\",\"Papua New Guinea\",\"India\",\"Netherlands\",\"Netherlands\",\"Netherlands\",\"Namibia\",\"Pakistan\",\"Oman\",\"Afghanistan\",\"New Zealand\",\"Namibia\",\"United States of America\",\"Scotland\",\"Namibia\",\"Afghanistan\",\"Nepal\",\"Pakistan\",\"United States of America\",\"Sri Lanka\",\"Australia\",\"Afghanistan\",\"Australia\",\"South Africa\",\"New Zealand\",\"Canada\",\"Papua New Guinea\",\"West Indies\",\"West Indies\",\"Afghanistan\",\"Pakistan\",\"Pakistan\",\"England\",\"India\",\"Bangladesh\",\"South Africa\",\"United States of America\",\"Canada\",\"Scotland\",\"Nepal\",\"England\",\"West Indies\",\"Oman\",\"Canada\",\"Papua New Guinea\",\"Nepal\",\"Papua New Guinea\",\"Afghanistan\",\"Oman\",\"West Indies\",\"Netherlands\",\"Canada\",\"South Africa\",\"India\",\"Namibia\",\"Namibia\",\"United States of America\",\"Nepal\",\"Uganda\",\"Nepal\",\"Scotland\",\"Netherlands\",\"Ireland\",\"Bangladesh\",\"England\",\"Namibia\",\"South Africa\",\"Bangladesh\",\"Bangladesh\",\"South Africa\",\"Australia\",\"Uganda\",\"Sri Lanka\",\"Australia\",\"West Indies\",\"Ireland\",\"Scotland\",\"Oman\",\"Sri Lanka\",\"Sri Lanka\",\"United States of America\",\"South Africa\",\"New Zealand\",\"Uganda\",\"Afghanistan\",\"Oman\",\"Pakistan\",\"India\",\"Papua New Guinea\",\"West Indies\",\"Canada\",\"Uganda\",\"Scotland\",\"Bangladesh\",\"Afghanistan\",\"Uganda\",\"Afghanistan\",\"Papua New Guinea\",\"Oman\",\"Pakistan\",\"Afghanistan\",\"Bangladesh\",\"New Zealand\",\"United States of America\",\"Netherlands\",\"Sri Lanka\",\"Afghanistan\",\"South Africa\",\"Uganda\",\"Uganda\",\"Netherlands\",\"India\",\"India\",\"Canada\",\"India\",\"United States of America\",\"Uganda\",\"Sri Lanka\",\"Nepal\",\"New Zealand\",\"West Indies\",\"West Indies\",\"Oman\",\"Netherlands\",\"South Africa\",\"Oman\",\"Afghanistan\",\"Uganda\",\"England\",\"Afghanistan\",\"Canada\",\"New Zealand\",\"Uganda\",\"Bangladesh\",\"West Indies\",\"West Indies\",\"Canada\",\"Nepal\",\"Pakistan\",\"England\",\"Sri Lanka\",\"New Zealand\",\"Namibia\",\"Uganda\",\"Pakistan\",\"Pakistan\",\"Oman\",\"Sri Lanka\",\"Bangladesh\",\"India\",\"United States of America\",\"West Indies\",\"Namibia\",\"Oman\",\"Papua New Guinea\",\"Namibia\",\"Nepal\",\"Papua New Guinea\",\"Bangladesh\",\"New Zealand\",\"Uganda\",\"Australia\",\"Ireland\",\"Australia\",\"South Africa\",\"Bangladesh\",\"Bangladesh\",\"Bangladesh\",\"United States of America\",\"Ireland\",\"Sri Lanka\",\"Sri Lanka\",\"England\",\"Bangladesh\",\"Namibia\",\"Ireland\",\"Papua New Guinea\",\"Pakistan\",\"Papua New Guinea\",\"Netherlands\",\"Namibia\",\"Netherlands\",\"United States of America\",\"Papua New Guinea\",\"Netherlands\",\"Australia\",\"Uganda\",\"Australia\",\"Ireland\",\"Namibia\",\"New Zealand\",\"India\",\"Australia\",\"Oman\"],\"y\":[1,162,63,17,9,52,2,32,71,14,35,34,66,42,22,12,71,59,93,0,111,122,110,18,22,67,102,24,8,2,0,10,0,2,145,0,214,23,4,140,94,70,36,14,12,61,64,243,60,20,55,0,71,44,71,133,25,71,98,102,33,2,6,2,58,219,13,29,90,20,3,69,20,5,2,255,113,12,10,25,107,21,231,23,19,15,35,35,32,4,89,89,1,2,17,13,13,3,17,4,43,48,86,1,101,190,151,0,3,99,37,4,0,40,50,36,139,72,0,13,5,95,123,125,4,62,132,35,4,140,47,75,32,23,169,36,26,56,6,110,7,2,4,71,0,124,3,22,10,3,21,16,10,6,112,10,0,0,50,14,1,0,21,79,144,171,25,92,66,6,0,36,58,228,102,16,3,9,0,281,13,2,57,0,17,49,40,78,121,11,38,23,188,0,25,6,9,44,36,25,12,111,257,3,23,0,11,13,22,8,24,10,0,0,4,12,169,165,76,12,28,74,11,7,0,3,153,8,22,16,20,30,25,43,4,29,19,67,27,19,178,7,51,28,199,9,27],\"type\":\"bar\"}],                        {\"template\":{\"data\":{\"histogram2dcontour\":[{\"type\":\"histogram2dcontour\",\"colorbar\":{\"outlinewidth\":0,\"ticks\":\"\"},\"colorscale\":[[0.0,\"#0d0887\"],[0.1111111111111111,\"#46039f\"],[0.2222222222222222,\"#7201a8\"],[0.3333333333333333,\"#9c179e\"],[0.4444444444444444,\"#bd3786\"],[0.5555555555555556,\"#d8576b\"],[0.6666666666666666,\"#ed7953\"],[0.7777777777777778,\"#fb9f3a\"],[0.8888888888888888,\"#fdca26\"],[1.0,\"#f0f921\"]]}],\"choropleth\":[{\"type\":\"choropleth\",\"colorbar\":{\"outlinewidth\":0,\"ticks\":\"\"}}],\"histogram2d\":[{\"type\":\"histogram2d\",\"colorbar\":{\"outlinewidth\":0,\"ticks\":\"\"},\"colorscale\":[[0.0,\"#0d0887\"],[0.1111111111111111,\"#46039f\"],[0.2222222222222222,\"#7201a8\"],[0.3333333333333333,\"#9c179e\"],[0.4444444444444444,\"#bd3786\"],[0.5555555555555556,\"#d8576b\"],[0.6666666666666666,\"#ed7953\"],[0.7777777777777778,\"#fb9f3a\"],[0.8888888888888888,\"#fdca26\"],[1.0,\"#f0f921\"]]}],\"heatmap\":[{\"type\":\"heatmap\",\"colorbar\":{\"outlinewidth\":0,\"ticks\":\"\"},\"colorscale\":[[0.0,\"#0d0887\"],[0.1111111111111111,\"#46039f\"],[0.2222222222222222,\"#7201a8\"],[0.3333333333333333,\"#9c179e\"],[0.4444444444444444,\"#bd3786\"],[0.5555555555555556,\"#d8576b\"],[0.6666666666666666,\"#ed7953\"],[0.7777777777777778,\"#fb9f3a\"],[0.8888888888888888,\"#fdca26\"],[1.0,\"#f0f921\"]]}],\"heatmapgl\":[{\"type\":\"heatmapgl\",\"colorbar\":{\"outlinewidth\":0,\"ticks\":\"\"},\"colorscale\":[[0.0,\"#0d0887\"],[0.1111111111111111,\"#46039f\"],[0.2222222222222222,\"#7201a8\"],[0.3333333333333333,\"#9c179e\"],[0.4444444444444444,\"#bd3786\"],[0.5555555555555556,\"#d8576b\"],[0.6666666666666666,\"#ed7953\"],[0.7777777777777778,\"#fb9f3a\"],[0.8888888888888888,\"#fdca26\"],[1.0,\"#f0f921\"]]}],\"contourcarpet\":[{\"type\":\"contourcarpet\",\"colorbar\":{\"outlinewidth\":0,\"ticks\":\"\"}}],\"contour\":[{\"type\":\"contour\",\"colorbar\":{\"outlinewidth\":0,\"ticks\":\"\"},\"colorscale\":[[0.0,\"#0d0887\"],[0.1111111111111111,\"#46039f\"],[0.2222222222222222,\"#7201a8\"],[0.3333333333333333,\"#9c179e\"],[0.4444444444444444,\"#bd3786\"],[0.5555555555555556,\"#d8576b\"],[0.6666666666666666,\"#ed7953\"],[0.7777777777777778,\"#fb9f3a\"],[0.8888888888888888,\"#fdca26\"],[1.0,\"#f0f921\"]]}],\"surface\":[{\"type\":\"surface\",\"colorbar\":{\"outlinewidth\":0,\"ticks\":\"\"},\"colorscale\":[[0.0,\"#0d0887\"],[0.1111111111111111,\"#46039f\"],[0.2222222222222222,\"#7201a8\"],[0.3333333333333333,\"#9c179e\"],[0.4444444444444444,\"#bd3786\"],[0.5555555555555556,\"#d8576b\"],[0.6666666666666666,\"#ed7953\"],[0.7777777777777778,\"#fb9f3a\"],[0.8888888888888888,\"#fdca26\"],[1.0,\"#f0f921\"]]}],\"mesh3d\":[{\"type\":\"mesh3d\",\"colorbar\":{\"outlinewidth\":0,\"ticks\":\"\"}}],\"scatter\":[{\"fillpattern\":{\"fillmode\":\"overlay\",\"size\":10,\"solidity\":0.2},\"type\":\"scatter\"}],\"parcoords\":[{\"type\":\"parcoords\",\"line\":{\"colorbar\":{\"outlinewidth\":0,\"ticks\":\"\"}}}],\"scatterpolargl\":[{\"type\":\"scatterpolargl\",\"marker\":{\"colorbar\":{\"outlinewidth\":0,\"ticks\":\"\"}}}],\"bar\":[{\"error_x\":{\"color\":\"#2a3f5f\"},\"error_y\":{\"color\":\"#2a3f5f\"},\"marker\":{\"line\":{\"color\":\"#E5ECF6\",\"width\":0.5},\"pattern\":{\"fillmode\":\"overlay\",\"size\":10,\"solidity\":0.2}},\"type\":\"bar\"}],\"scattergeo\":[{\"type\":\"scattergeo\",\"marker\":{\"colorbar\":{\"outlinewidth\":0,\"ticks\":\"\"}}}],\"scatterpolar\":[{\"type\":\"scatterpolar\",\"marker\":{\"colorbar\":{\"outlinewidth\":0,\"ticks\":\"\"}}}],\"histogram\":[{\"marker\":{\"pattern\":{\"fillmode\":\"overlay\",\"size\":10,\"solidity\":0.2}},\"type\":\"histogram\"}],\"scattergl\":[{\"type\":\"scattergl\",\"marker\":{\"colorbar\":{\"outlinewidth\":0,\"ticks\":\"\"}}}],\"scatter3d\":[{\"type\":\"scatter3d\",\"line\":{\"colorbar\":{\"outlinewidth\":0,\"ticks\":\"\"}},\"marker\":{\"colorbar\":{\"outlinewidth\":0,\"ticks\":\"\"}}}],\"scattermapbox\":[{\"type\":\"scattermapbox\",\"marker\":{\"colorbar\":{\"outlinewidth\":0,\"ticks\":\"\"}}}],\"scatterternary\":[{\"type\":\"scatterternary\",\"marker\":{\"colorbar\":{\"outlinewidth\":0,\"ticks\":\"\"}}}],\"scattercarpet\":[{\"type\":\"scattercarpet\",\"marker\":{\"colorbar\":{\"outlinewidth\":0,\"ticks\":\"\"}}}],\"carpet\":[{\"aaxis\":{\"endlinecolor\":\"#2a3f5f\",\"gridcolor\":\"white\",\"linecolor\":\"white\",\"minorgridcolor\":\"white\",\"startlinecolor\":\"#2a3f5f\"},\"baxis\":{\"endlinecolor\":\"#2a3f5f\",\"gridcolor\":\"white\",\"linecolor\":\"white\",\"minorgridcolor\":\"white\",\"startlinecolor\":\"#2a3f5f\"},\"type\":\"carpet\"}],\"table\":[{\"cells\":{\"fill\":{\"color\":\"#EBF0F8\"},\"line\":{\"color\":\"white\"}},\"header\":{\"fill\":{\"color\":\"#C8D4E3\"},\"line\":{\"color\":\"white\"}},\"type\":\"table\"}],\"barpolar\":[{\"marker\":{\"line\":{\"color\":\"#E5ECF6\",\"width\":0.5},\"pattern\":{\"fillmode\":\"overlay\",\"size\":10,\"solidity\":0.2}},\"type\":\"barpolar\"}],\"pie\":[{\"automargin\":true,\"type\":\"pie\"}]},\"layout\":{\"autotypenumbers\":\"strict\",\"colorway\":[\"#636efa\",\"#EF553B\",\"#00cc96\",\"#ab63fa\",\"#FFA15A\",\"#19d3f3\",\"#FF6692\",\"#B6E880\",\"#FF97FF\",\"#FECB52\"],\"font\":{\"color\":\"#2a3f5f\"},\"hovermode\":\"closest\",\"hoverlabel\":{\"align\":\"left\"},\"paper_bgcolor\":\"white\",\"plot_bgcolor\":\"#E5ECF6\",\"polar\":{\"bgcolor\":\"#E5ECF6\",\"angularaxis\":{\"gridcolor\":\"white\",\"linecolor\":\"white\",\"ticks\":\"\"},\"radialaxis\":{\"gridcolor\":\"white\",\"linecolor\":\"white\",\"ticks\":\"\"}},\"ternary\":{\"bgcolor\":\"#E5ECF6\",\"aaxis\":{\"gridcolor\":\"white\",\"linecolor\":\"white\",\"ticks\":\"\"},\"baxis\":{\"gridcolor\":\"white\",\"linecolor\":\"white\",\"ticks\":\"\"},\"caxis\":{\"gridcolor\":\"white\",\"linecolor\":\"white\",\"ticks\":\"\"}},\"coloraxis\":{\"colorbar\":{\"outlinewidth\":0,\"ticks\":\"\"}},\"colorscale\":{\"sequential\":[[0.0,\"#0d0887\"],[0.1111111111111111,\"#46039f\"],[0.2222222222222222,\"#7201a8\"],[0.3333333333333333,\"#9c179e\"],[0.4444444444444444,\"#bd3786\"],[0.5555555555555556,\"#d8576b\"],[0.6666666666666666,\"#ed7953\"],[0.7777777777777778,\"#fb9f3a\"],[0.8888888888888888,\"#fdca26\"],[1.0,\"#f0f921\"]],\"sequentialminus\":[[0.0,\"#0d0887\"],[0.1111111111111111,\"#46039f\"],[0.2222222222222222,\"#7201a8\"],[0.3333333333333333,\"#9c179e\"],[0.4444444444444444,\"#bd3786\"],[0.5555555555555556,\"#d8576b\"],[0.6666666666666666,\"#ed7953\"],[0.7777777777777778,\"#fb9f3a\"],[0.8888888888888888,\"#fdca26\"],[1.0,\"#f0f921\"]],\"diverging\":[[0,\"#8e0152\"],[0.1,\"#c51b7d\"],[0.2,\"#de77ae\"],[0.3,\"#f1b6da\"],[0.4,\"#fde0ef\"],[0.5,\"#f7f7f7\"],[0.6,\"#e6f5d0\"],[0.7,\"#b8e186\"],[0.8,\"#7fbc41\"],[0.9,\"#4d9221\"],[1,\"#276419\"]]},\"xaxis\":{\"gridcolor\":\"white\",\"linecolor\":\"white\",\"ticks\":\"\",\"title\":{\"standoff\":15},\"zerolinecolor\":\"white\",\"automargin\":true,\"zerolinewidth\":2},\"yaxis\":{\"gridcolor\":\"white\",\"linecolor\":\"white\",\"ticks\":\"\",\"title\":{\"standoff\":15},\"zerolinecolor\":\"white\",\"automargin\":true,\"zerolinewidth\":2},\"scene\":{\"xaxis\":{\"backgroundcolor\":\"#E5ECF6\",\"gridcolor\":\"white\",\"linecolor\":\"white\",\"showbackground\":true,\"ticks\":\"\",\"zerolinecolor\":\"white\",\"gridwidth\":2},\"yaxis\":{\"backgroundcolor\":\"#E5ECF6\",\"gridcolor\":\"white\",\"linecolor\":\"white\",\"showbackground\":true,\"ticks\":\"\",\"zerolinecolor\":\"white\",\"gridwidth\":2},\"zaxis\":{\"backgroundcolor\":\"#E5ECF6\",\"gridcolor\":\"white\",\"linecolor\":\"white\",\"showbackground\":true,\"ticks\":\"\",\"zerolinecolor\":\"white\",\"gridwidth\":2}},\"shapedefaults\":{\"line\":{\"color\":\"#2a3f5f\"}},\"annotationdefaults\":{\"arrowcolor\":\"#2a3f5f\",\"arrowhead\":0,\"arrowwidth\":1},\"geo\":{\"bgcolor\":\"white\",\"landcolor\":\"#E5ECF6\",\"subunitcolor\":\"white\",\"showland\":true,\"showlakes\":true,\"lakecolor\":\"white\"},\"title\":{\"x\":0.05},\"mapbox\":{\"style\":\"light\"}}},\"title\":{\"text\":\"Team and their scores\"},\"xaxis\":{\"title\":{\"text\":\"Team\"}},\"yaxis\":{\"title\":{\"text\":\"Runs\"}},\"barmode\":\"group\"},                        {\"responsive\": true}                    ).then(function(){\n",
              "                            \n",
              "var gd = document.getElementById('0f45d74d-07a6-4399-9fab-9738b743cfae');\n",
              "var x = new MutationObserver(function (mutations, observer) {{\n",
              "        var display = window.getComputedStyle(gd).display;\n",
              "        if (!display || display === 'none') {{\n",
              "            console.log([gd, 'removed!']);\n",
              "            Plotly.purge(gd);\n",
              "            observer.disconnect();\n",
              "        }}\n",
              "}});\n",
              "\n",
              "// Listen for the removal of the full notebook cells\n",
              "var notebookContainer = gd.closest('#notebook-container');\n",
              "if (notebookContainer) {{\n",
              "    x.observe(notebookContainer, {childList: true});\n",
              "}}\n",
              "\n",
              "// Listen for the clearing of the current output cell\n",
              "var outputEl = gd.closest('.output');\n",
              "if (outputEl) {{\n",
              "    x.observe(outputEl, {childList: true});\n",
              "}}\n",
              "\n",
              "                        })                };                            </script>        </div>\n",
              "</body>\n",
              "</html>"
            ]
          },
          "metadata": {}
        }
      ]
    },
    {
      "cell_type": "code",
      "source": [
        "highest_run_scorer = batting[batting['Runs']==batting['Runs'].max()]\n",
        "print(highest_run_scorer)\n"
      ],
      "metadata": {
        "colab": {
          "base_uri": "https://localhost:8080/"
        },
        "id": "ZeMO32wzYm-x",
        "outputId": "1fb51aa0-e1e7-499d-c23e-f169d723ad8f"
      },
      "execution_count": null,
      "outputs": [
        {
          "output_type": "stream",
          "name": "stdout",
          "text": [
            "                 Player         Team  Mat  Inns  NO  Runs  HS    Ave      SR  \\\n",
            "179  Rahmanullah Gurbaz  Afghanistan    8     8   0   281  80  35.12  124.33   \n",
            "\n",
            "     100  50  0  \n",
            "179    0   3  2  \n"
          ]
        }
      ]
    },
    {
      "cell_type": "code",
      "source": [
        "batting.describe()"
      ],
      "metadata": {
        "colab": {
          "base_uri": "https://localhost:8080/",
          "height": 300
        },
        "id": "m8yEPze-bi-F",
        "outputId": "4d69a519-544c-4a68-e289-745476e37fba"
      },
      "execution_count": null,
      "outputs": [
        {
          "output_type": "execute_result",
          "data": {
            "text/plain": [
              "              Mat        Inns          NO        Runs         Ave          SR  \\\n",
              "count  247.000000  247.000000  247.000000  247.000000  247.000000  247.000000   \n",
              "mean     4.408907    3.449393    0.700405   49.149798   14.176275   88.911781   \n",
              "std      2.235796    2.009244    0.835761   58.137259   14.191932   46.135606   \n",
              "min      1.000000    1.000000    0.000000    0.000000    0.000000    0.000000   \n",
              "25%      3.000000    2.000000    0.000000    8.000000    4.000000   59.165000   \n",
              "50%      4.000000    3.000000    1.000000   25.000000   11.000000   92.850000   \n",
              "75%      6.500000    4.000000    1.000000   71.000000   21.250000  120.955000   \n",
              "max      9.000000    9.000000    4.000000  281.000000  102.000000  250.000000   \n",
              "\n",
              "         100          50           0  \n",
              "count  247.0  247.000000  247.000000  \n",
              "mean     0.0    0.186235    0.453441  \n",
              "std      0.0    0.515741    0.635068  \n",
              "min      0.0    0.000000    0.000000  \n",
              "25%      0.0    0.000000    0.000000  \n",
              "50%      0.0    0.000000    0.000000  \n",
              "75%      0.0    0.000000    1.000000  \n",
              "max      0.0    3.000000    3.000000  "
            ],
            "text/html": [
              "\n",
              "  <div id=\"df-b86a27da-c86a-4bd8-80f6-232337be6725\" class=\"colab-df-container\">\n",
              "    <div>\n",
              "<style scoped>\n",
              "    .dataframe tbody tr th:only-of-type {\n",
              "        vertical-align: middle;\n",
              "    }\n",
              "\n",
              "    .dataframe tbody tr th {\n",
              "        vertical-align: top;\n",
              "    }\n",
              "\n",
              "    .dataframe thead th {\n",
              "        text-align: right;\n",
              "    }\n",
              "</style>\n",
              "<table border=\"1\" class=\"dataframe\">\n",
              "  <thead>\n",
              "    <tr style=\"text-align: right;\">\n",
              "      <th></th>\n",
              "      <th>Mat</th>\n",
              "      <th>Inns</th>\n",
              "      <th>NO</th>\n",
              "      <th>Runs</th>\n",
              "      <th>Ave</th>\n",
              "      <th>SR</th>\n",
              "      <th>100</th>\n",
              "      <th>50</th>\n",
              "      <th>0</th>\n",
              "    </tr>\n",
              "  </thead>\n",
              "  <tbody>\n",
              "    <tr>\n",
              "      <th>count</th>\n",
              "      <td>247.000000</td>\n",
              "      <td>247.000000</td>\n",
              "      <td>247.000000</td>\n",
              "      <td>247.000000</td>\n",
              "      <td>247.000000</td>\n",
              "      <td>247.000000</td>\n",
              "      <td>247.0</td>\n",
              "      <td>247.000000</td>\n",
              "      <td>247.000000</td>\n",
              "    </tr>\n",
              "    <tr>\n",
              "      <th>mean</th>\n",
              "      <td>4.408907</td>\n",
              "      <td>3.449393</td>\n",
              "      <td>0.700405</td>\n",
              "      <td>49.149798</td>\n",
              "      <td>14.176275</td>\n",
              "      <td>88.911781</td>\n",
              "      <td>0.0</td>\n",
              "      <td>0.186235</td>\n",
              "      <td>0.453441</td>\n",
              "    </tr>\n",
              "    <tr>\n",
              "      <th>std</th>\n",
              "      <td>2.235796</td>\n",
              "      <td>2.009244</td>\n",
              "      <td>0.835761</td>\n",
              "      <td>58.137259</td>\n",
              "      <td>14.191932</td>\n",
              "      <td>46.135606</td>\n",
              "      <td>0.0</td>\n",
              "      <td>0.515741</td>\n",
              "      <td>0.635068</td>\n",
              "    </tr>\n",
              "    <tr>\n",
              "      <th>min</th>\n",
              "      <td>1.000000</td>\n",
              "      <td>1.000000</td>\n",
              "      <td>0.000000</td>\n",
              "      <td>0.000000</td>\n",
              "      <td>0.000000</td>\n",
              "      <td>0.000000</td>\n",
              "      <td>0.0</td>\n",
              "      <td>0.000000</td>\n",
              "      <td>0.000000</td>\n",
              "    </tr>\n",
              "    <tr>\n",
              "      <th>25%</th>\n",
              "      <td>3.000000</td>\n",
              "      <td>2.000000</td>\n",
              "      <td>0.000000</td>\n",
              "      <td>8.000000</td>\n",
              "      <td>4.000000</td>\n",
              "      <td>59.165000</td>\n",
              "      <td>0.0</td>\n",
              "      <td>0.000000</td>\n",
              "      <td>0.000000</td>\n",
              "    </tr>\n",
              "    <tr>\n",
              "      <th>50%</th>\n",
              "      <td>4.000000</td>\n",
              "      <td>3.000000</td>\n",
              "      <td>1.000000</td>\n",
              "      <td>25.000000</td>\n",
              "      <td>11.000000</td>\n",
              "      <td>92.850000</td>\n",
              "      <td>0.0</td>\n",
              "      <td>0.000000</td>\n",
              "      <td>0.000000</td>\n",
              "    </tr>\n",
              "    <tr>\n",
              "      <th>75%</th>\n",
              "      <td>6.500000</td>\n",
              "      <td>4.000000</td>\n",
              "      <td>1.000000</td>\n",
              "      <td>71.000000</td>\n",
              "      <td>21.250000</td>\n",
              "      <td>120.955000</td>\n",
              "      <td>0.0</td>\n",
              "      <td>0.000000</td>\n",
              "      <td>1.000000</td>\n",
              "    </tr>\n",
              "    <tr>\n",
              "      <th>max</th>\n",
              "      <td>9.000000</td>\n",
              "      <td>9.000000</td>\n",
              "      <td>4.000000</td>\n",
              "      <td>281.000000</td>\n",
              "      <td>102.000000</td>\n",
              "      <td>250.000000</td>\n",
              "      <td>0.0</td>\n",
              "      <td>3.000000</td>\n",
              "      <td>3.000000</td>\n",
              "    </tr>\n",
              "  </tbody>\n",
              "</table>\n",
              "</div>\n",
              "    <div class=\"colab-df-buttons\">\n",
              "\n",
              "  <div class=\"colab-df-container\">\n",
              "    <button class=\"colab-df-convert\" onclick=\"convertToInteractive('df-b86a27da-c86a-4bd8-80f6-232337be6725')\"\n",
              "            title=\"Convert this dataframe to an interactive table.\"\n",
              "            style=\"display:none;\">\n",
              "\n",
              "  <svg xmlns=\"http://www.w3.org/2000/svg\" height=\"24px\" viewBox=\"0 -960 960 960\">\n",
              "    <path d=\"M120-120v-720h720v720H120Zm60-500h600v-160H180v160Zm220 220h160v-160H400v160Zm0 220h160v-160H400v160ZM180-400h160v-160H180v160Zm440 0h160v-160H620v160ZM180-180h160v-160H180v160Zm440 0h160v-160H620v160Z\"/>\n",
              "  </svg>\n",
              "    </button>\n",
              "\n",
              "  <style>\n",
              "    .colab-df-container {\n",
              "      display:flex;\n",
              "      gap: 12px;\n",
              "    }\n",
              "\n",
              "    .colab-df-convert {\n",
              "      background-color: #E8F0FE;\n",
              "      border: none;\n",
              "      border-radius: 50%;\n",
              "      cursor: pointer;\n",
              "      display: none;\n",
              "      fill: #1967D2;\n",
              "      height: 32px;\n",
              "      padding: 0 0 0 0;\n",
              "      width: 32px;\n",
              "    }\n",
              "\n",
              "    .colab-df-convert:hover {\n",
              "      background-color: #E2EBFA;\n",
              "      box-shadow: 0px 1px 2px rgba(60, 64, 67, 0.3), 0px 1px 3px 1px rgba(60, 64, 67, 0.15);\n",
              "      fill: #174EA6;\n",
              "    }\n",
              "\n",
              "    .colab-df-buttons div {\n",
              "      margin-bottom: 4px;\n",
              "    }\n",
              "\n",
              "    [theme=dark] .colab-df-convert {\n",
              "      background-color: #3B4455;\n",
              "      fill: #D2E3FC;\n",
              "    }\n",
              "\n",
              "    [theme=dark] .colab-df-convert:hover {\n",
              "      background-color: #434B5C;\n",
              "      box-shadow: 0px 1px 3px 1px rgba(0, 0, 0, 0.15);\n",
              "      filter: drop-shadow(0px 1px 2px rgba(0, 0, 0, 0.3));\n",
              "      fill: #FFFFFF;\n",
              "    }\n",
              "  </style>\n",
              "\n",
              "    <script>\n",
              "      const buttonEl =\n",
              "        document.querySelector('#df-b86a27da-c86a-4bd8-80f6-232337be6725 button.colab-df-convert');\n",
              "      buttonEl.style.display =\n",
              "        google.colab.kernel.accessAllowed ? 'block' : 'none';\n",
              "\n",
              "      async function convertToInteractive(key) {\n",
              "        const element = document.querySelector('#df-b86a27da-c86a-4bd8-80f6-232337be6725');\n",
              "        const dataTable =\n",
              "          await google.colab.kernel.invokeFunction('convertToInteractive',\n",
              "                                                    [key], {});\n",
              "        if (!dataTable) return;\n",
              "\n",
              "        const docLinkHtml = 'Like what you see? Visit the ' +\n",
              "          '<a target=\"_blank\" href=https://colab.research.google.com/notebooks/data_table.ipynb>data table notebook</a>'\n",
              "          + ' to learn more about interactive tables.';\n",
              "        element.innerHTML = '';\n",
              "        dataTable['output_type'] = 'display_data';\n",
              "        await google.colab.output.renderOutput(dataTable, element);\n",
              "        const docLink = document.createElement('div');\n",
              "        docLink.innerHTML = docLinkHtml;\n",
              "        element.appendChild(docLink);\n",
              "      }\n",
              "    </script>\n",
              "  </div>\n",
              "\n",
              "\n",
              "<div id=\"df-8ae94b7c-9b90-402c-89a0-a23347b70424\">\n",
              "  <button class=\"colab-df-quickchart\" onclick=\"quickchart('df-8ae94b7c-9b90-402c-89a0-a23347b70424')\"\n",
              "            title=\"Suggest charts\"\n",
              "            style=\"display:none;\">\n",
              "\n",
              "<svg xmlns=\"http://www.w3.org/2000/svg\" height=\"24px\"viewBox=\"0 0 24 24\"\n",
              "     width=\"24px\">\n",
              "    <g>\n",
              "        <path d=\"M19 3H5c-1.1 0-2 .9-2 2v14c0 1.1.9 2 2 2h14c1.1 0 2-.9 2-2V5c0-1.1-.9-2-2-2zM9 17H7v-7h2v7zm4 0h-2V7h2v10zm4 0h-2v-4h2v4z\"/>\n",
              "    </g>\n",
              "</svg>\n",
              "  </button>\n",
              "\n",
              "<style>\n",
              "  .colab-df-quickchart {\n",
              "      --bg-color: #E8F0FE;\n",
              "      --fill-color: #1967D2;\n",
              "      --hover-bg-color: #E2EBFA;\n",
              "      --hover-fill-color: #174EA6;\n",
              "      --disabled-fill-color: #AAA;\n",
              "      --disabled-bg-color: #DDD;\n",
              "  }\n",
              "\n",
              "  [theme=dark] .colab-df-quickchart {\n",
              "      --bg-color: #3B4455;\n",
              "      --fill-color: #D2E3FC;\n",
              "      --hover-bg-color: #434B5C;\n",
              "      --hover-fill-color: #FFFFFF;\n",
              "      --disabled-bg-color: #3B4455;\n",
              "      --disabled-fill-color: #666;\n",
              "  }\n",
              "\n",
              "  .colab-df-quickchart {\n",
              "    background-color: var(--bg-color);\n",
              "    border: none;\n",
              "    border-radius: 50%;\n",
              "    cursor: pointer;\n",
              "    display: none;\n",
              "    fill: var(--fill-color);\n",
              "    height: 32px;\n",
              "    padding: 0;\n",
              "    width: 32px;\n",
              "  }\n",
              "\n",
              "  .colab-df-quickchart:hover {\n",
              "    background-color: var(--hover-bg-color);\n",
              "    box-shadow: 0 1px 2px rgba(60, 64, 67, 0.3), 0 1px 3px 1px rgba(60, 64, 67, 0.15);\n",
              "    fill: var(--button-hover-fill-color);\n",
              "  }\n",
              "\n",
              "  .colab-df-quickchart-complete:disabled,\n",
              "  .colab-df-quickchart-complete:disabled:hover {\n",
              "    background-color: var(--disabled-bg-color);\n",
              "    fill: var(--disabled-fill-color);\n",
              "    box-shadow: none;\n",
              "  }\n",
              "\n",
              "  .colab-df-spinner {\n",
              "    border: 2px solid var(--fill-color);\n",
              "    border-color: transparent;\n",
              "    border-bottom-color: var(--fill-color);\n",
              "    animation:\n",
              "      spin 1s steps(1) infinite;\n",
              "  }\n",
              "\n",
              "  @keyframes spin {\n",
              "    0% {\n",
              "      border-color: transparent;\n",
              "      border-bottom-color: var(--fill-color);\n",
              "      border-left-color: var(--fill-color);\n",
              "    }\n",
              "    20% {\n",
              "      border-color: transparent;\n",
              "      border-left-color: var(--fill-color);\n",
              "      border-top-color: var(--fill-color);\n",
              "    }\n",
              "    30% {\n",
              "      border-color: transparent;\n",
              "      border-left-color: var(--fill-color);\n",
              "      border-top-color: var(--fill-color);\n",
              "      border-right-color: var(--fill-color);\n",
              "    }\n",
              "    40% {\n",
              "      border-color: transparent;\n",
              "      border-right-color: var(--fill-color);\n",
              "      border-top-color: var(--fill-color);\n",
              "    }\n",
              "    60% {\n",
              "      border-color: transparent;\n",
              "      border-right-color: var(--fill-color);\n",
              "    }\n",
              "    80% {\n",
              "      border-color: transparent;\n",
              "      border-right-color: var(--fill-color);\n",
              "      border-bottom-color: var(--fill-color);\n",
              "    }\n",
              "    90% {\n",
              "      border-color: transparent;\n",
              "      border-bottom-color: var(--fill-color);\n",
              "    }\n",
              "  }\n",
              "</style>\n",
              "\n",
              "  <script>\n",
              "    async function quickchart(key) {\n",
              "      const quickchartButtonEl =\n",
              "        document.querySelector('#' + key + ' button');\n",
              "      quickchartButtonEl.disabled = true;  // To prevent multiple clicks.\n",
              "      quickchartButtonEl.classList.add('colab-df-spinner');\n",
              "      try {\n",
              "        const charts = await google.colab.kernel.invokeFunction(\n",
              "            'suggestCharts', [key], {});\n",
              "      } catch (error) {\n",
              "        console.error('Error during call to suggestCharts:', error);\n",
              "      }\n",
              "      quickchartButtonEl.classList.remove('colab-df-spinner');\n",
              "      quickchartButtonEl.classList.add('colab-df-quickchart-complete');\n",
              "    }\n",
              "    (() => {\n",
              "      let quickchartButtonEl =\n",
              "        document.querySelector('#df-8ae94b7c-9b90-402c-89a0-a23347b70424 button');\n",
              "      quickchartButtonEl.style.display =\n",
              "        google.colab.kernel.accessAllowed ? 'block' : 'none';\n",
              "    })();\n",
              "  </script>\n",
              "</div>\n",
              "\n",
              "    </div>\n",
              "  </div>\n"
            ],
            "application/vnd.google.colaboratory.intrinsic+json": {
              "type": "dataframe",
              "summary": "{\n  \"name\": \"batting\",\n  \"rows\": 8,\n  \"fields\": [\n    {\n      \"column\": \"Mat\",\n      \"properties\": {\n        \"dtype\": \"number\",\n        \"std\": 85.84166402257303,\n        \"min\": 1.0,\n        \"max\": 247.0,\n        \"num_unique_values\": 8,\n        \"samples\": [\n          4.4089068825910935,\n          4.0,\n          247.0\n        ],\n        \"semantic_type\": \"\",\n        \"description\": \"\"\n      }\n    },\n    {\n      \"column\": \"Inns\",\n      \"properties\": {\n        \"dtype\": \"number\",\n        \"std\": 86.12674333459245,\n        \"min\": 1.0,\n        \"max\": 247.0,\n        \"num_unique_values\": 8,\n        \"samples\": [\n          3.4493927125506074,\n          3.0,\n          247.0\n        ],\n        \"semantic_type\": \"\",\n        \"description\": \"\"\n      }\n    },\n    {\n      \"column\": \"NO\",\n      \"properties\": {\n        \"dtype\": \"number\",\n        \"std\": 86.9561520228481,\n        \"min\": 0.0,\n        \"max\": 247.0,\n        \"num_unique_values\": 6,\n        \"samples\": [\n          247.0,\n          0.7004048582995951,\n          4.0\n        ],\n        \"semantic_type\": \"\",\n        \"description\": \"\"\n      }\n    },\n    {\n      \"column\": \"Runs\",\n      \"properties\": {\n        \"dtype\": \"number\",\n        \"std\": 109.00686379673346,\n        \"min\": 0.0,\n        \"max\": 281.0,\n        \"num_unique_values\": 8,\n        \"samples\": [\n          49.149797570850204,\n          25.0,\n          247.0\n        ],\n        \"semantic_type\": \"\",\n        \"description\": \"\"\n      }\n    },\n    {\n      \"column\": \"Ave\",\n      \"properties\": {\n        \"dtype\": \"number\",\n        \"std\": 85.37224167337399,\n        \"min\": 0.0,\n        \"max\": 247.0,\n        \"num_unique_values\": 8,\n        \"samples\": [\n          14.176275303643724,\n          11.0,\n          247.0\n        ],\n        \"semantic_type\": \"\",\n        \"description\": \"\"\n      }\n    },\n    {\n      \"column\": \"SR\",\n      \"properties\": {\n        \"dtype\": \"number\",\n        \"std\": 90.95718912084249,\n        \"min\": 0.0,\n        \"max\": 250.0,\n        \"num_unique_values\": 8,\n        \"samples\": [\n          88.91178137651822,\n          92.85,\n          247.0\n        ],\n        \"semantic_type\": \"\",\n        \"description\": \"\"\n      }\n    },\n    {\n      \"column\": \"100\",\n      \"properties\": {\n        \"dtype\": \"number\",\n        \"std\": 87.32768747653861,\n        \"min\": 0.0,\n        \"max\": 247.0,\n        \"num_unique_values\": 2,\n        \"samples\": [\n          0.0,\n          247.0\n        ],\n        \"semantic_type\": \"\",\n        \"description\": \"\"\n      }\n    },\n    {\n      \"column\": \"50\",\n      \"properties\": {\n        \"dtype\": \"number\",\n        \"std\": 87.14672815540452,\n        \"min\": 0.0,\n        \"max\": 247.0,\n        \"num_unique_values\": 5,\n        \"samples\": [\n          0.1862348178137652,\n          3.0\n        ],\n        \"semantic_type\": \"\",\n        \"description\": \"\"\n      }\n    },\n    {\n      \"column\": \"0\",\n      \"properties\": {\n        \"dtype\": \"number\",\n        \"std\": 87.07634733761545,\n        \"min\": 0.0,\n        \"max\": 247.0,\n        \"num_unique_values\": 6,\n        \"samples\": [\n          247.0,\n          0.4534412955465587\n        ],\n        \"semantic_type\": \"\",\n        \"description\": \"\"\n      }\n    }\n  ]\n}"
            }
          },
          "metadata": {},
          "execution_count": 31
        }
      ]
    },
    {
      "cell_type": "code",
      "source": [
        "maximum_matches_played = batting[batting['Mat']==batting['Mat'].max()]\n",
        "print(maximum_matches_played)"
      ],
      "metadata": {
        "colab": {
          "base_uri": "https://localhost:8080/"
        },
        "id": "apAi6-oJl3ws",
        "outputId": "5e18c4f9-9bc9-45c6-fe83-e1fab9961a86"
      },
      "execution_count": null,
      "outputs": [
        {
          "output_type": "stream",
          "name": "stdout",
          "text": [
            "           Player          Team  Mat  Inns  NO  Runs   HS    Ave      SR  100  \\\n",
            "47      Q de Kock  South Africa    9     9   0   243   74  27.00  140.46    0   \n",
            "76   RR Hendricks  South Africa    9     9   1   113   43  14.12   87.59    0   \n",
            "88       M Jansen  South Africa    9     6   2    32  21*   8.00   96.96    0   \n",
            "105     H Klaasen  South Africa    9     8   2   190   52  31.66  126.66    0   \n",
            "122    AK Markram  South Africa    9     9   1   123   46  15.37  100.81    0   \n",
            "134     DA Miller  South Africa    9     8   2   169  59*  28.16  102.42    0   \n",
            "160      A Nortje  South Africa    9     1   1     1   1*   0.00  100.00    0   \n",
            "177      K Rabada  South Africa    9     3   1     9   5*   4.50  128.57    0   \n",
            "217      T Stubbs  South Africa    9     8   3   165   33  33.00  101.22    0   \n",
            "\n",
            "     50  0  \n",
            "47    2  1  \n",
            "76    0  2  \n",
            "88    0  1  \n",
            "105   1  0  \n",
            "122   0  1  \n",
            "134   1  1  \n",
            "160   0  0  \n",
            "177   0  1  \n",
            "217   0  1  \n"
          ]
        }
      ]
    },
    {
      "cell_type": "code",
      "source": [
        "fig_sr = px.bar(batting,x='Player',y='SR',title='Player and their strike rate')\n",
        "fig_sr.show()"
      ],
      "metadata": {
        "colab": {
          "base_uri": "https://localhost:8080/",
          "height": 542
        },
        "id": "P7LKFR9dm7ez",
        "outputId": "ee89ee62-5304-4716-a328-4cdb4957a4a9"
      },
      "execution_count": null,
      "outputs": [
        {
          "output_type": "display_data",
          "data": {
            "text/html": [
              "<html>\n",
              "<head><meta charset=\"utf-8\" /></head>\n",
              "<body>\n",
              "    <div>            <script src=\"https://cdnjs.cloudflare.com/ajax/libs/mathjax/2.7.5/MathJax.js?config=TeX-AMS-MML_SVG\"></script><script type=\"text/javascript\">if (window.MathJax && window.MathJax.Hub && window.MathJax.Hub.Config) {window.MathJax.Hub.Config({SVG: {font: \"STIX-Web\"}});}</script>                <script type=\"text/javascript\">window.PlotlyConfig = {MathJaxConfig: 'local'};</script>\n",
              "        <script charset=\"utf-8\" src=\"https://cdn.plot.ly/plotly-2.24.1.min.js\"></script>                <div id=\"fcac420c-2314-4fa0-8d32-ec6829377943\" class=\"plotly-graph-div\" style=\"height:525px; width:100%;\"></div>            <script type=\"text/javascript\">                                    window.PLOTLYENV=window.PLOTLYENV || {};                                    if (document.getElementById(\"fcac420c-2314-4fa0-8d32-ec6829377943\")) {                    Plotly.newPlot(                        \"fcac420c-2314-4fa0-8d32-ec6829377943\",                        [{\"alignmentgroup\":\"True\",\"hovertemplate\":\"Player=%{x}\\u003cbr\\u003eSR=%{y}\\u003cextra\\u003e\\u003c\\u002fextra\\u003e\",\"legendgroup\":\"\",\"marker\":{\"color\":\"#636efa\",\"pattern\":{\"shape\":\"\"}},\"name\":\"\",\"offsetgroup\":\"\",\"orientation\":\"v\",\"showlegend\":false,\"textposition\":\"auto\",\"x\":[\"NP Kenjige\",\"Aaron Jones\",\"Aasif Sheikh\",\"Abbas Afridi\",\"F Achelam\",\"MR Adair\",\"AC Agar\",\"DS Airee\",\"MM Ali\",\"Ali Khan\",\"FH Allen\",\"CJA Amini\",\"CJ Anderson\",\"Aqib Ilyas\",\"JC Archer\",\"Arshdeep Singh\",\"KIC Asalanka\",\"PS Athavale\",\"Ayaan Khan\",\"Azam Khan\",\"Azmatullah Omarzai\",\"Babar Azam\",\"JM Bairstow\",\"DS Bajwa\",\"A Balbirnie\",\"S Bau\",\"RD Berrington\",\"K Bhurtel\",\"Bilal Hassun\",\"Bilal Khan\",\"A Bohara\",\"TA Boult\",\"MG Bracewell\",\"JT Brassell\",\"HC Brook\",\"JJ Bumrah\",\"JC Buttler\",\"C Campher\",\"MS Chapman\",\"J Charles\",\"RL Chase\",\"DP Conway\",\"MH Cross\",\"PJ Cummins\",\"SM Curran\",\"TH David\",\"N Davin\",\"Q de Kock\",\"GJ Delany\",\"BFW de Leede\",\"DM de Silva\",\"S Dhakal\",\"NS Dhaliwal\",\"GH Dockrell\",\"K Doriga\",\"S Dube\",\"A Dutt\",\"SA Edwards\",\"SA Engelbrecht\",\"MG Erasmus\",\"Fakhar Zaman\",\"Fayyaz Butt\",\"Fazalhaq Farooqi\",\"LH Ferguson\",\"JN Frylinck\",\"AGS Gous\",\"CN Greaves\",\"ZE Green\",\"Gulbadin Naib\",\"Gulsan Jha\",\"Haris Rauf\",\"Harmeet Singh\",\"PW Hasaranga\",\"JR Hazlewood\",\"Hazratullah Zazai\",\"TM Head\",\"RR Hendricks\",\"MJ Henry\",\"D Heyliger\",\"H Hiri\",\"SD Hope\",\"AJ Hosein\",\"Ibrahim Zadran\",\"Iftikhar Ahmed\",\"Imad Wasim\",\"WG Jacks\",\"RA Jadeja\",\"Jaker Ali\",\"M Jansen\",\"Jasdeep Singh\",\"A Johnson\",\"MA Jones\",\"S Jora\",\"CJ Jordan\",\"AS Joseph\",\"Kaleemullah\",\"Kaleem Sana\",\"SI Kamea\",\"Karan KC\",\"J Kariko\",\"Karim Janat\",\"Khalid Kail\",\"BA King\",\"VJ Kingma\",\"NR Kirton\",\"H Klaasen\",\"V Kohli\",\"JP Kotze\",\"MB Kruger\",\"NR Kumar\",\"Kushal Malla\",\"C Kyewuta\",\"S Lamichhane\",\"MA Leask\",\"M Levitt\",\"JB Little\",\"Litton Das\",\"LS Livingstone\",\"T Lungameni\",\"KA Maharaj\",\"Mahedi Hasan\",\"Mahmudullah\",\"AK Markram\",\"MR Marsh\",\"B Masaba\",\"AD Mathews\",\"GJ Maxwell\",\"KR Mayers\",\"BJ McCarthy\",\"B McMullen\",\"Mehran Khan\",\"BKG Mendis\",\"PHKD Mendis\",\"Milind Kumar\",\"DA Miller\",\"DJ Mitchell\",\"J Miyagi\",\"Mohammad Nabi\",\"Mohammad Nadeem\",\"Mohammad Rizwan\",\"Mohammed Siraj\",\"KV Morea\",\"G Motie\",\"S Movva\",\"RG Mukasa\",\"HG Munsey\",\"Mustafizur Rahman\",\"Najibullah Zadran\",\"DM Nakrani\",\"Nangeyalia Kharote\",\"A Nao\",\"Naseem Khushi\",\"Naseem Shah\",\"Naveen-ul-Haq\",\"Najmul Hossain Shanto\",\"JDS Neesham\",\"SN Netravalkar\",\"AT Nidamanuru\",\"P Nissanka\",\"Noor Ahmad\",\"A Nortje\",\"F Nsubuga\",\"R Obuya\",\"MP O'Dowd\",\"HH Pandya\",\"RR Pant\",\"Pargat Singh\",\"AR Patel\",\"MD Patel\",\"RB Patel\",\"M Pathirana\",\"RK Paudel\",\"GD Phillips\",\"N Pooran\",\"R Powell\",\"KH Prajapati\",\"TJG Pringle\",\"K Rabada\",\"Rafiullah\",\"Rahmanullah Gurbaz\",\"AR Ramjani\",\"AU Rashid\",\"Rashid Khan\",\"Ravinderpal Singh\",\"R Ravindra\",\"Riazat Ali Shah\",\"Rishad Hossain\",\"AD Russell\",\"SE Rutherford\",\"Saad Bin Zafar\",\"AK Sah\",\"Saim Ayub\",\"PD Salt\",\"S Samarawickrama\",\"MJ Santner\",\"BM Scholtz\",\"S Ssesazi\",\"Shadab Khan\",\"Shaheen Shah Afridi\",\"Shakeel Ahmed\",\"MD Shanaka\",\"Shakib Al Hasan\",\"RG Sharma\",\"Shayan Jahangir\",\"R Shepherd\",\"B Shikongo\",\"Shoaib Khan\",\"L Siaka\",\"JJ Smit\",\"Sompal Kami\",\"CA Soper\",\"Soumya Sarkar\",\"TG Southee\",\"H Ssenyondo\",\"MA Starc\",\"PR Stirling\",\"MP Stoinis\",\"T Stubbs\",\"Tanzid Hasan\",\"Tanzim Hasan Sakib\",\"Taskin Ahmed\",\"SR Taylor\",\"HT Tector\",\"M Theekshana\",\"N Thushara\",\"RJW Topley\",\"Towhid Hridoy\",\"R Trumpelmann\",\"LJ Tucker\",\"TP Ura\",\"Usman Khan\",\"A Vala\",\"LV van Beek\",\"M van Lingen\",\"PA van Meekeren\",\"SC van Schalkwyk\",\"N Vanua\",\"Vikramjit Singh\",\"MS Wade\",\"K Waiswa\",\"DA Warner\",\"B White\",\"D Wiese\",\"KS Williamson\",\"SA Yadav\",\"A Zampa\",\"Zeeshan Maqsood\"],\"xaxis\":\"x\",\"y\":[25.0,135.0,88.73,80.95,69.23,115.55,40.0,66.66,139.21,175.0,81.39,64.15,91.66,120.0,129.41,75.0,139.21,134.09,97.89,0.0,108.82,101.66,134.14,128.57,68.75,83.75,139.72,61.53,50.0,50.0,0.0,90.9,0.0,66.66,157.6,0.0,158.51,79.31,57.14,113.82,130.55,107.69,150.0,82.35,109.09,148.78,96.96,140.46,150.0,60.6,105.76,0.0,116.39,115.78,92.2,114.65,125.0,110.93,106.52,109.67,110.0,28.57,120.0,40.0,85.29,151.03,100.0,87.87,104.65,80.0,100.0,138.0,222.22,71.42,50.0,158.38,87.59,70.58,71.42,64.1,187.71,75.0,107.44,100.0,65.51,88.23,159.09,76.08,96.96,30.76,121.91,134.84,12.5,25.0,130.76,108.33,92.85,75.0,141.66,44.44,113.15,78.68,126.47,100.0,140.27,126.66,112.68,0.0,33.33,115.11,71.15,28.57,0.0,160.0,111.11,116.12,93.28,146.93,0.0,54.16,100.0,94.05,100.81,116.82,15.38,124.0,141.93,102.94,25.0,170.73,130.55,111.94,80.0,85.18,102.42,120.0,70.27,80.0,60.0,90.9,100.0,40.0,50.0,116.39,0.0,139.32,60.0,95.65,38.46,37.5,65.62,106.66,250.0,40.0,95.72,90.9,0.0,0.0,131.57,58.33,100.0,0.0,58.33,101.28,151.57,127.61,92.59,139.39,122.22,27.27,0.0,80.0,113.72,146.15,143.66,48.48,18.75,128.57,0.0,124.33,54.16,100.0,123.91,0.0,68.0,44.14,153.84,165.95,147.56,50.0,100.0,79.31,159.32,0.0,125.0,100.0,81.81,129.41,163.63,119.04,66.66,106.73,156.7,30.0,92.0,0.0,40.74,65.0,73.33,72.72,46.15,83.33,0.0,0.0,57.14,48.0,164.07,101.22,96.2,52.17,84.84,90.24,40.74,36.84,0.0,100.0,128.57,88.88,73.33,51.61,90.9,71.42,96.15,104.87,44.44,107.4,63.33,94.36,112.5,43.18,139.06,29.16,127.5,87.5,135.37,128.57,75.0],\"yaxis\":\"y\",\"type\":\"bar\"}],                        {\"template\":{\"data\":{\"histogram2dcontour\":[{\"type\":\"histogram2dcontour\",\"colorbar\":{\"outlinewidth\":0,\"ticks\":\"\"},\"colorscale\":[[0.0,\"#0d0887\"],[0.1111111111111111,\"#46039f\"],[0.2222222222222222,\"#7201a8\"],[0.3333333333333333,\"#9c179e\"],[0.4444444444444444,\"#bd3786\"],[0.5555555555555556,\"#d8576b\"],[0.6666666666666666,\"#ed7953\"],[0.7777777777777778,\"#fb9f3a\"],[0.8888888888888888,\"#fdca26\"],[1.0,\"#f0f921\"]]}],\"choropleth\":[{\"type\":\"choropleth\",\"colorbar\":{\"outlinewidth\":0,\"ticks\":\"\"}}],\"histogram2d\":[{\"type\":\"histogram2d\",\"colorbar\":{\"outlinewidth\":0,\"ticks\":\"\"},\"colorscale\":[[0.0,\"#0d0887\"],[0.1111111111111111,\"#46039f\"],[0.2222222222222222,\"#7201a8\"],[0.3333333333333333,\"#9c179e\"],[0.4444444444444444,\"#bd3786\"],[0.5555555555555556,\"#d8576b\"],[0.6666666666666666,\"#ed7953\"],[0.7777777777777778,\"#fb9f3a\"],[0.8888888888888888,\"#fdca26\"],[1.0,\"#f0f921\"]]}],\"heatmap\":[{\"type\":\"heatmap\",\"colorbar\":{\"outlinewidth\":0,\"ticks\":\"\"},\"colorscale\":[[0.0,\"#0d0887\"],[0.1111111111111111,\"#46039f\"],[0.2222222222222222,\"#7201a8\"],[0.3333333333333333,\"#9c179e\"],[0.4444444444444444,\"#bd3786\"],[0.5555555555555556,\"#d8576b\"],[0.6666666666666666,\"#ed7953\"],[0.7777777777777778,\"#fb9f3a\"],[0.8888888888888888,\"#fdca26\"],[1.0,\"#f0f921\"]]}],\"heatmapgl\":[{\"type\":\"heatmapgl\",\"colorbar\":{\"outlinewidth\":0,\"ticks\":\"\"},\"colorscale\":[[0.0,\"#0d0887\"],[0.1111111111111111,\"#46039f\"],[0.2222222222222222,\"#7201a8\"],[0.3333333333333333,\"#9c179e\"],[0.4444444444444444,\"#bd3786\"],[0.5555555555555556,\"#d8576b\"],[0.6666666666666666,\"#ed7953\"],[0.7777777777777778,\"#fb9f3a\"],[0.8888888888888888,\"#fdca26\"],[1.0,\"#f0f921\"]]}],\"contourcarpet\":[{\"type\":\"contourcarpet\",\"colorbar\":{\"outlinewidth\":0,\"ticks\":\"\"}}],\"contour\":[{\"type\":\"contour\",\"colorbar\":{\"outlinewidth\":0,\"ticks\":\"\"},\"colorscale\":[[0.0,\"#0d0887\"],[0.1111111111111111,\"#46039f\"],[0.2222222222222222,\"#7201a8\"],[0.3333333333333333,\"#9c179e\"],[0.4444444444444444,\"#bd3786\"],[0.5555555555555556,\"#d8576b\"],[0.6666666666666666,\"#ed7953\"],[0.7777777777777778,\"#fb9f3a\"],[0.8888888888888888,\"#fdca26\"],[1.0,\"#f0f921\"]]}],\"surface\":[{\"type\":\"surface\",\"colorbar\":{\"outlinewidth\":0,\"ticks\":\"\"},\"colorscale\":[[0.0,\"#0d0887\"],[0.1111111111111111,\"#46039f\"],[0.2222222222222222,\"#7201a8\"],[0.3333333333333333,\"#9c179e\"],[0.4444444444444444,\"#bd3786\"],[0.5555555555555556,\"#d8576b\"],[0.6666666666666666,\"#ed7953\"],[0.7777777777777778,\"#fb9f3a\"],[0.8888888888888888,\"#fdca26\"],[1.0,\"#f0f921\"]]}],\"mesh3d\":[{\"type\":\"mesh3d\",\"colorbar\":{\"outlinewidth\":0,\"ticks\":\"\"}}],\"scatter\":[{\"fillpattern\":{\"fillmode\":\"overlay\",\"size\":10,\"solidity\":0.2},\"type\":\"scatter\"}],\"parcoords\":[{\"type\":\"parcoords\",\"line\":{\"colorbar\":{\"outlinewidth\":0,\"ticks\":\"\"}}}],\"scatterpolargl\":[{\"type\":\"scatterpolargl\",\"marker\":{\"colorbar\":{\"outlinewidth\":0,\"ticks\":\"\"}}}],\"bar\":[{\"error_x\":{\"color\":\"#2a3f5f\"},\"error_y\":{\"color\":\"#2a3f5f\"},\"marker\":{\"line\":{\"color\":\"#E5ECF6\",\"width\":0.5},\"pattern\":{\"fillmode\":\"overlay\",\"size\":10,\"solidity\":0.2}},\"type\":\"bar\"}],\"scattergeo\":[{\"type\":\"scattergeo\",\"marker\":{\"colorbar\":{\"outlinewidth\":0,\"ticks\":\"\"}}}],\"scatterpolar\":[{\"type\":\"scatterpolar\",\"marker\":{\"colorbar\":{\"outlinewidth\":0,\"ticks\":\"\"}}}],\"histogram\":[{\"marker\":{\"pattern\":{\"fillmode\":\"overlay\",\"size\":10,\"solidity\":0.2}},\"type\":\"histogram\"}],\"scattergl\":[{\"type\":\"scattergl\",\"marker\":{\"colorbar\":{\"outlinewidth\":0,\"ticks\":\"\"}}}],\"scatter3d\":[{\"type\":\"scatter3d\",\"line\":{\"colorbar\":{\"outlinewidth\":0,\"ticks\":\"\"}},\"marker\":{\"colorbar\":{\"outlinewidth\":0,\"ticks\":\"\"}}}],\"scattermapbox\":[{\"type\":\"scattermapbox\",\"marker\":{\"colorbar\":{\"outlinewidth\":0,\"ticks\":\"\"}}}],\"scatterternary\":[{\"type\":\"scatterternary\",\"marker\":{\"colorbar\":{\"outlinewidth\":0,\"ticks\":\"\"}}}],\"scattercarpet\":[{\"type\":\"scattercarpet\",\"marker\":{\"colorbar\":{\"outlinewidth\":0,\"ticks\":\"\"}}}],\"carpet\":[{\"aaxis\":{\"endlinecolor\":\"#2a3f5f\",\"gridcolor\":\"white\",\"linecolor\":\"white\",\"minorgridcolor\":\"white\",\"startlinecolor\":\"#2a3f5f\"},\"baxis\":{\"endlinecolor\":\"#2a3f5f\",\"gridcolor\":\"white\",\"linecolor\":\"white\",\"minorgridcolor\":\"white\",\"startlinecolor\":\"#2a3f5f\"},\"type\":\"carpet\"}],\"table\":[{\"cells\":{\"fill\":{\"color\":\"#EBF0F8\"},\"line\":{\"color\":\"white\"}},\"header\":{\"fill\":{\"color\":\"#C8D4E3\"},\"line\":{\"color\":\"white\"}},\"type\":\"table\"}],\"barpolar\":[{\"marker\":{\"line\":{\"color\":\"#E5ECF6\",\"width\":0.5},\"pattern\":{\"fillmode\":\"overlay\",\"size\":10,\"solidity\":0.2}},\"type\":\"barpolar\"}],\"pie\":[{\"automargin\":true,\"type\":\"pie\"}]},\"layout\":{\"autotypenumbers\":\"strict\",\"colorway\":[\"#636efa\",\"#EF553B\",\"#00cc96\",\"#ab63fa\",\"#FFA15A\",\"#19d3f3\",\"#FF6692\",\"#B6E880\",\"#FF97FF\",\"#FECB52\"],\"font\":{\"color\":\"#2a3f5f\"},\"hovermode\":\"closest\",\"hoverlabel\":{\"align\":\"left\"},\"paper_bgcolor\":\"white\",\"plot_bgcolor\":\"#E5ECF6\",\"polar\":{\"bgcolor\":\"#E5ECF6\",\"angularaxis\":{\"gridcolor\":\"white\",\"linecolor\":\"white\",\"ticks\":\"\"},\"radialaxis\":{\"gridcolor\":\"white\",\"linecolor\":\"white\",\"ticks\":\"\"}},\"ternary\":{\"bgcolor\":\"#E5ECF6\",\"aaxis\":{\"gridcolor\":\"white\",\"linecolor\":\"white\",\"ticks\":\"\"},\"baxis\":{\"gridcolor\":\"white\",\"linecolor\":\"white\",\"ticks\":\"\"},\"caxis\":{\"gridcolor\":\"white\",\"linecolor\":\"white\",\"ticks\":\"\"}},\"coloraxis\":{\"colorbar\":{\"outlinewidth\":0,\"ticks\":\"\"}},\"colorscale\":{\"sequential\":[[0.0,\"#0d0887\"],[0.1111111111111111,\"#46039f\"],[0.2222222222222222,\"#7201a8\"],[0.3333333333333333,\"#9c179e\"],[0.4444444444444444,\"#bd3786\"],[0.5555555555555556,\"#d8576b\"],[0.6666666666666666,\"#ed7953\"],[0.7777777777777778,\"#fb9f3a\"],[0.8888888888888888,\"#fdca26\"],[1.0,\"#f0f921\"]],\"sequentialminus\":[[0.0,\"#0d0887\"],[0.1111111111111111,\"#46039f\"],[0.2222222222222222,\"#7201a8\"],[0.3333333333333333,\"#9c179e\"],[0.4444444444444444,\"#bd3786\"],[0.5555555555555556,\"#d8576b\"],[0.6666666666666666,\"#ed7953\"],[0.7777777777777778,\"#fb9f3a\"],[0.8888888888888888,\"#fdca26\"],[1.0,\"#f0f921\"]],\"diverging\":[[0,\"#8e0152\"],[0.1,\"#c51b7d\"],[0.2,\"#de77ae\"],[0.3,\"#f1b6da\"],[0.4,\"#fde0ef\"],[0.5,\"#f7f7f7\"],[0.6,\"#e6f5d0\"],[0.7,\"#b8e186\"],[0.8,\"#7fbc41\"],[0.9,\"#4d9221\"],[1,\"#276419\"]]},\"xaxis\":{\"gridcolor\":\"white\",\"linecolor\":\"white\",\"ticks\":\"\",\"title\":{\"standoff\":15},\"zerolinecolor\":\"white\",\"automargin\":true,\"zerolinewidth\":2},\"yaxis\":{\"gridcolor\":\"white\",\"linecolor\":\"white\",\"ticks\":\"\",\"title\":{\"standoff\":15},\"zerolinecolor\":\"white\",\"automargin\":true,\"zerolinewidth\":2},\"scene\":{\"xaxis\":{\"backgroundcolor\":\"#E5ECF6\",\"gridcolor\":\"white\",\"linecolor\":\"white\",\"showbackground\":true,\"ticks\":\"\",\"zerolinecolor\":\"white\",\"gridwidth\":2},\"yaxis\":{\"backgroundcolor\":\"#E5ECF6\",\"gridcolor\":\"white\",\"linecolor\":\"white\",\"showbackground\":true,\"ticks\":\"\",\"zerolinecolor\":\"white\",\"gridwidth\":2},\"zaxis\":{\"backgroundcolor\":\"#E5ECF6\",\"gridcolor\":\"white\",\"linecolor\":\"white\",\"showbackground\":true,\"ticks\":\"\",\"zerolinecolor\":\"white\",\"gridwidth\":2}},\"shapedefaults\":{\"line\":{\"color\":\"#2a3f5f\"}},\"annotationdefaults\":{\"arrowcolor\":\"#2a3f5f\",\"arrowhead\":0,\"arrowwidth\":1},\"geo\":{\"bgcolor\":\"white\",\"landcolor\":\"#E5ECF6\",\"subunitcolor\":\"white\",\"showland\":true,\"showlakes\":true,\"lakecolor\":\"white\"},\"title\":{\"x\":0.05},\"mapbox\":{\"style\":\"light\"}}},\"xaxis\":{\"anchor\":\"y\",\"domain\":[0.0,1.0],\"title\":{\"text\":\"Player\"}},\"yaxis\":{\"anchor\":\"x\",\"domain\":[0.0,1.0],\"title\":{\"text\":\"SR\"}},\"legend\":{\"tracegroupgap\":0},\"title\":{\"text\":\"Player and their strike rate\"},\"barmode\":\"relative\"},                        {\"responsive\": true}                    ).then(function(){\n",
              "                            \n",
              "var gd = document.getElementById('fcac420c-2314-4fa0-8d32-ec6829377943');\n",
              "var x = new MutationObserver(function (mutations, observer) {{\n",
              "        var display = window.getComputedStyle(gd).display;\n",
              "        if (!display || display === 'none') {{\n",
              "            console.log([gd, 'removed!']);\n",
              "            Plotly.purge(gd);\n",
              "            observer.disconnect();\n",
              "        }}\n",
              "}});\n",
              "\n",
              "// Listen for the removal of the full notebook cells\n",
              "var notebookContainer = gd.closest('#notebook-container');\n",
              "if (notebookContainer) {{\n",
              "    x.observe(notebookContainer, {childList: true});\n",
              "}}\n",
              "\n",
              "// Listen for the clearing of the current output cell\n",
              "var outputEl = gd.closest('.output');\n",
              "if (outputEl) {{\n",
              "    x.observe(outputEl, {childList: true});\n",
              "}}\n",
              "\n",
              "                        })                };                            </script>        </div>\n",
              "</body>\n",
              "</html>"
            ]
          },
          "metadata": {}
        }
      ]
    },
    {
      "cell_type": "code",
      "source": [
        "fig_sc = px.scatter(batting,x='Runs',y='SR',color='Team')\n",
        "fig_sc.show()"
      ],
      "metadata": {
        "colab": {
          "base_uri": "https://localhost:8080/",
          "height": 542
        },
        "id": "U1Q9cvGnoaJx",
        "outputId": "31708686-4128-40b8-fb5e-bedf4ba9e147"
      },
      "execution_count": null,
      "outputs": [
        {
          "output_type": "display_data",
          "data": {
            "text/html": [
              "<html>\n",
              "<head><meta charset=\"utf-8\" /></head>\n",
              "<body>\n",
              "    <div>            <script src=\"https://cdnjs.cloudflare.com/ajax/libs/mathjax/2.7.5/MathJax.js?config=TeX-AMS-MML_SVG\"></script><script type=\"text/javascript\">if (window.MathJax && window.MathJax.Hub && window.MathJax.Hub.Config) {window.MathJax.Hub.Config({SVG: {font: \"STIX-Web\"}});}</script>                <script type=\"text/javascript\">window.PlotlyConfig = {MathJaxConfig: 'local'};</script>\n",
              "        <script charset=\"utf-8\" src=\"https://cdn.plot.ly/plotly-2.24.1.min.js\"></script>                <div id=\"f4ba96b1-e0e5-4d93-8c9a-0b4bcded4ced\" class=\"plotly-graph-div\" style=\"height:525px; width:100%;\"></div>            <script type=\"text/javascript\">                                    window.PLOTLYENV=window.PLOTLYENV || {};                                    if (document.getElementById(\"f4ba96b1-e0e5-4d93-8c9a-0b4bcded4ced\")) {                    Plotly.newPlot(                        \"f4ba96b1-e0e5-4d93-8c9a-0b4bcded4ced\",                        [{\"hovertemplate\":\"Team=United States of America\\u003cbr\\u003eRuns=%{x}\\u003cbr\\u003eSR=%{y}\\u003cextra\\u003e\\u003c\\u002fextra\\u003e\",\"legendgroup\":\"United States of America\",\"marker\":{\"color\":\"#636efa\",\"symbol\":\"circle\"},\"mode\":\"markers\",\"name\":\"United States of America\",\"orientation\":\"v\",\"showlegend\":true,\"x\":[1,162,14,66,219,69,4,99,23,0,66,3,74,29],\"xaxis\":\"x\",\"y\":[25.0,135.0,175.0,91.66,151.03,138.0,30.76,115.11,85.18,0.0,122.22,30.0,90.24,107.4],\"yaxis\":\"y\",\"type\":\"scatter\"},{\"hovertemplate\":\"Team=Nepal\\u003cbr\\u003eRuns=%{x}\\u003cbr\\u003eSR=%{y}\\u003cextra\\u003e\\u003c\\u002fextra\\u003e\",\"legendgroup\":\"Nepal\",\"marker\":{\"color\":\"#EF553B\",\"symbol\":\"circle\"},\"mode\":\"markers\",\"name\":\"Nepal\",\"orientation\":\"v\",\"showlegend\":true,\"x\":[63,32,24,0,0,20,1,17,37,0,36,38,8],\"xaxis\":\"x\",\"y\":[88.73,66.66,61.53,0.0,0.0,80.0,12.5,141.66,71.15,0.0,80.0,100.0,72.72],\"yaxis\":\"y\",\"type\":\"scatter\"},{\"hovertemplate\":\"Team=Pakistan\\u003cbr\\u003eRuns=%{x}\\u003cbr\\u003eSR=%{y}\\u003cextra\\u003e\\u003c\\u002fextra\\u003e\",\"legendgroup\":\"Pakistan\",\"marker\":{\"color\":\"#00cc96\",\"symbol\":\"circle\"},\"mode\":\"markers\",\"name\":\"Pakistan\",\"orientation\":\"v\",\"showlegend\":true,\"x\":[17,0,122,33,3,23,19,110,10,23,44,36,20],\"xaxis\":\"x\",\"y\":[80.95,0.0,101.66,110.0,100.0,100.0,65.51,90.9,250.0,79.31,129.41,163.63,90.9],\"yaxis\":\"y\",\"type\":\"scatter\"},{\"hovertemplate\":\"Team=Uganda\\u003cbr\\u003eRuns=%{x}\\u003cbr\\u003eSR=%{y}\\u003cextra\\u003e\\u003c\\u002fextra\\u003e\",\"legendgroup\":\"Uganda\",\"marker\":{\"color\":\"#ab63fa\",\"symbol\":\"circle\"},\"mode\":\"markers\",\"name\":\"Uganda\",\"orientation\":\"v\",\"showlegend\":true,\"x\":[9,8,4,4,26,0,10,0,21,6,13,49,9,0,19],\"xaxis\":\"x\",\"y\":[69.23,50.0,28.57,15.38,70.27,0.0,38.46,0.0,58.33,27.27,54.16,44.14,81.81,0.0,43.18],\"yaxis\":\"y\",\"type\":\"scatter\"},{\"hovertemplate\":\"Team=Ireland\\u003cbr\\u003eRuns=%{x}\\u003cbr\\u003eSR=%{y}\\u003cextra\\u003e\\u003c\\u002fextra\\u003e\",\"legendgroup\":\"Ireland\",\"marker\":{\"color\":\"#FFA15A\",\"symbol\":\"circle\"},\"mode\":\"markers\",\"name\":\"Ireland\",\"orientation\":\"v\",\"showlegend\":true,\"x\":[52,22,23,60,44,36,4,12,11,22,7],\"xaxis\":\"x\",\"y\":[115.55,68.75,79.31,150.0,115.78,116.12,25.0,48.0,40.74,73.33,29.16],\"yaxis\":\"y\",\"type\":\"scatter\"},{\"hovertemplate\":\"Team=Australia\\u003cbr\\u003eRuns=%{x}\\u003cbr\\u003eSR=%{y}\\u003cextra\\u003e\\u003c\\u002fextra\\u003e\",\"legendgroup\":\"Australia\",\"marker\":{\"color\":\"#19d3f3\",\"symbol\":\"circle\"},\"mode\":\"markers\",\"name\":\"Australia\",\"orientation\":\"v\",\"showlegend\":true,\"x\":[2,14,61,5,255,125,132,4,169,27,178,9],\"xaxis\":\"x\",\"y\":[40.0,82.35,148.78,71.42,158.38,116.82,141.93,57.14,164.07,112.5,139.06,128.57],\"yaxis\":\"y\",\"type\":\"scatter\"},{\"hovertemplate\":\"Team=England\\u003cbr\\u003eRuns=%{x}\\u003cbr\\u003eSR=%{y}\\u003cextra\\u003e\\u003c\\u002fextra\\u003e\",\"legendgroup\":\"England\",\"marker\":{\"color\":\"#FF6692\",\"symbol\":\"circle\"},\"mode\":\"markers\",\"name\":\"England\",\"orientation\":\"v\",\"showlegend\":true,\"x\":[71,22,110,145,214,12,15,2,72,2,188,3],\"xaxis\":\"x\",\"y\":[139.21,129.41,134.14,157.6,158.51,109.09,88.23,25.0,146.93,100.0,159.32,100.0],\"yaxis\":\"y\",\"type\":\"scatter\"},{\"hovertemplate\":\"Team=New Zealand\\u003cbr\\u003eRuns=%{x}\\u003cbr\\u003eSR=%{y}\\u003cextra\\u003e\\u003c\\u002fextra\\u003e\",\"legendgroup\":\"New Zealand\",\"marker\":{\"color\":\"#B6E880\",\"symbol\":\"circle\"},\"mode\":\"markers\",\"name\":\"New Zealand\",\"orientation\":\"v\",\"showlegend\":true,\"x\":[35,10,0,4,70,2,12,36,10,58,17,25,0,28],\"xaxis\":\"x\",\"y\":[81.39,90.9,0.0,57.14,107.69,40.0,70.58,120.0,90.9,113.72,68.0,125.0,0.0,87.5],\"yaxis\":\"y\",\"type\":\"scatter\"},{\"hovertemplate\":\"Team=Papua New Guinea\\u003cbr\\u003eRuns=%{x}\\u003cbr\\u003eSR=%{y}\\u003cextra\\u003e\\u003c\\u002fextra\\u003e\",\"legendgroup\":\"Papua New Guinea\",\"marker\":{\"color\":\"#FF97FF\",\"symbol\":\"circle\"},\"mode\":\"markers\",\"name\":\"Papua New Guinea\",\"orientation\":\"v\",\"showlegend\":true,\"x\":[34,67,71,25,3,4,2,21,13,24,16,30,19],\"xaxis\":\"x\",\"y\":[64.15,83.75,92.2,64.1,75.0,44.44,40.0,65.62,65.0,46.15,51.61,71.42,63.33],\"yaxis\":\"y\",\"type\":\"scatter\"},{\"hovertemplate\":\"Team=Oman\\u003cbr\\u003eRuns=%{x}\\u003cbr\\u003eSR=%{y}\\u003cextra\\u003e\\u003c\\u002fextra\\u003e\",\"legendgroup\":\"Oman\",\"marker\":{\"color\":\"#FECB52\",\"symbol\":\"circle\"},\"mode\":\"markers\",\"name\":\"Oman\",\"orientation\":\"v\",\"showlegend\":true,\"x\":[42,59,93,2,2,13,48,47,6,16,16,0,25,11,27],\"xaxis\":\"x\",\"y\":[120.0,134.09,97.89,50.0,28.57,108.33,78.68,130.55,60.0,106.66,48.48,0.0,119.04,40.74,75.0],\"yaxis\":\"y\",\"type\":\"scatter\"},{\"hovertemplate\":\"Team=India\\u003cbr\\u003eRuns=%{x}\\u003cbr\\u003eSR=%{y}\\u003cextra\\u003e\\u003c\\u002fextra\\u003e\",\"legendgroup\":\"India\",\"marker\":{\"color\":\"#636efa\",\"symbol\":\"circle\"},\"mode\":\"markers\",\"name\":\"India\",\"orientation\":\"v\",\"showlegend\":true,\"x\":[12,0,133,35,151,7,144,171,92,257,199],\"xaxis\":\"x\",\"y\":[75.0,0.0,114.65,159.09,112.68,100.0,151.57,127.61,139.39,156.7,135.37],\"yaxis\":\"y\",\"type\":\"scatter\"},{\"hovertemplate\":\"Team=Sri Lanka\\u003cbr\\u003eRuns=%{x}\\u003cbr\\u003eSR=%{y}\\u003cextra\\u003e\\u003c\\u002fextra\\u003e\",\"legendgroup\":\"Sri Lanka\",\"marker\":{\"color\":\"#EF553B\",\"symbol\":\"circle\"},\"mode\":\"markers\",\"name\":\"Sri Lanka\",\"orientation\":\"v\",\"showlegend\":true,\"x\":[71,55,20,62,75,32,50,0,0,12,7,0],\"xaxis\":\"x\",\"y\":[139.21,105.76,222.22,124.0,111.94,80.0,131.57,0.0,0.0,66.66,36.84,0.0],\"yaxis\":\"y\",\"type\":\"scatter\"},{\"hovertemplate\":\"Team=Afghanistan\\u003cbr\\u003eRuns=%{x}\\u003cbr\\u003eSR=%{y}\\u003cextra\\u003e\\u003c\\u002fextra\\u003e\",\"legendgroup\":\"Afghanistan\",\"marker\":{\"color\":\"#00cc96\",\"symbol\":\"circle\"},\"mode\":\"markers\",\"name\":\"Afghanistan\",\"orientation\":\"v\",\"showlegend\":true,\"x\":[111,6,90,2,231,43,56,22,3,6,14,281,57],\"xaxis\":\"x\",\"y\":[108.82,120.0,104.65,50.0,107.44,113.15,80.0,95.65,37.5,40.0,58.33,124.33,123.91],\"yaxis\":\"y\",\"type\":\"scatter\"},{\"hovertemplate\":\"Team=Canada\\u003cbr\\u003eRuns=%{x}\\u003cbr\\u003eSR=%{y}\\u003cextra\\u003e\\u003c\\u002fextra\\u003e\",\"legendgroup\":\"Canada\",\"marker\":{\"color\":\"#ab63fa\",\"symbol\":\"circle\"},\"mode\":\"markers\",\"name\":\"Canada\",\"orientation\":\"v\",\"showlegend\":true,\"x\":[18,71,10,89,13,101,71,25,0,11],\"xaxis\":\"x\",\"y\":[128.57,116.39,71.42,121.91,92.85,140.27,116.39,92.59,0.0,50.0],\"yaxis\":\"y\",\"type\":\"scatter\"},{\"hovertemplate\":\"Team=Scotland\\u003cbr\\u003eRuns=%{x}\\u003cbr\\u003eSR=%{y}\\u003cextra\\u003e\\u003c\\u002fextra\\u003e\",\"legendgroup\":\"Scotland\",\"marker\":{\"color\":\"#FFA15A\",\"symbol\":\"circle\"},\"mode\":\"markers\",\"name\":\"Scotland\",\"orientation\":\"v\",\"showlegend\":true,\"x\":[102,36,13,89,40,140,124],\"xaxis\":\"x\",\"y\":[139.72,150.0,100.0,134.84,160.0,170.73,139.32],\"yaxis\":\"y\",\"type\":\"scatter\"},{\"hovertemplate\":\"Team=Namibia\\u003cbr\\u003eRuns=%{x}\\u003cbr\\u003eSR=%{y}\\u003cextra\\u003e\\u003c\\u002fextra\\u003e\",\"legendgroup\":\"Namibia\",\"marker\":{\"color\":\"#19d3f3\",\"symbol\":\"circle\"},\"mode\":\"markers\",\"name\":\"Namibia\",\"orientation\":\"v\",\"showlegend\":true,\"x\":[2,64,102,58,29,0,3,0,6,0,22,8,43,51],\"xaxis\":\"x\",\"y\":[66.66,96.96,109.67,85.29,87.87,0.0,33.33,0.0,100.0,0.0,73.33,88.88,104.87,127.5],\"yaxis\":\"y\",\"type\":\"scatter\"},{\"hovertemplate\":\"Team=West Indies\\u003cbr\\u003eRuns=%{x}\\u003cbr\\u003eSR=%{y}\\u003cextra\\u003e\\u003c\\u002fextra\\u003e\",\"legendgroup\":\"West Indies\",\"marker\":{\"color\":\"#FF6692\",\"symbol\":\"circle\"},\"mode\":\"markers\",\"name\":\"West Indies\",\"orientation\":\"v\",\"showlegend\":true,\"x\":[140,94,107,21,17,86,35,4,228,102,78,121,23],\"xaxis\":\"x\",\"y\":[113.82,130.55,187.71,75.0,130.76,126.47,102.94,50.0,146.15,143.66,165.95,147.56,92.0],\"yaxis\":\"y\",\"type\":\"scatter\"},{\"hovertemplate\":\"Team=South Africa\\u003cbr\\u003eRuns=%{x}\\u003cbr\\u003eSR=%{y}\\u003cextra\\u003e\\u003c\\u002fextra\\u003e\",\"legendgroup\":\"South Africa\",\"marker\":{\"color\":\"#B6E880\",\"symbol\":\"circle\"},\"mode\":\"markers\",\"name\":\"South Africa\",\"orientation\":\"v\",\"showlegend\":true,\"x\":[243,113,32,190,13,123,169,1,9,165],\"xaxis\":\"x\",\"y\":[140.46,87.59,96.96,126.66,54.16,100.81,102.42,100.0,128.57,101.22],\"yaxis\":\"y\",\"type\":\"scatter\"},{\"hovertemplate\":\"Team=Netherlands\\u003cbr\\u003eRuns=%{x}\\u003cbr\\u003eSR=%{y}\\u003cextra\\u003e\\u003c\\u002fextra\\u003e\",\"legendgroup\":\"Netherlands\",\"marker\":{\"color\":\"#FF97FF\",\"symbol\":\"circle\"},\"mode\":\"markers\",\"name\":\"Netherlands\",\"orientation\":\"v\",\"showlegend\":true,\"x\":[20,25,71,98,1,50,0,79,3,25,4,67],\"xaxis\":\"x\",\"y\":[60.6,125.0,110.93,106.52,100.0,111.11,0.0,101.28,18.75,96.15,44.44,94.36],\"yaxis\":\"y\",\"type\":\"scatter\"},{\"hovertemplate\":\"Team=Bangladesh\\u003cbr\\u003eRuns=%{x}\\u003cbr\\u003eSR=%{y}\\u003cextra\\u003e\\u003c\\u002fextra\\u003e\",\"legendgroup\":\"Bangladesh\",\"marker\":{\"color\":\"#FECB52\",\"symbol\":\"circle\"},\"mode\":\"markers\",\"name\":\"Bangladesh\",\"orientation\":\"v\",\"showlegend\":true,\"x\":[35,139,5,95,3,112,40,111,10,76,12,28,153],\"xaxis\":\"x\",\"y\":[76.08,93.28,100.0,94.05,60.0,95.72,153.84,106.73,83.33,96.2,52.17,84.84,128.57],\"yaxis\":\"y\",\"type\":\"scatter\"}],                        {\"template\":{\"data\":{\"histogram2dcontour\":[{\"type\":\"histogram2dcontour\",\"colorbar\":{\"outlinewidth\":0,\"ticks\":\"\"},\"colorscale\":[[0.0,\"#0d0887\"],[0.1111111111111111,\"#46039f\"],[0.2222222222222222,\"#7201a8\"],[0.3333333333333333,\"#9c179e\"],[0.4444444444444444,\"#bd3786\"],[0.5555555555555556,\"#d8576b\"],[0.6666666666666666,\"#ed7953\"],[0.7777777777777778,\"#fb9f3a\"],[0.8888888888888888,\"#fdca26\"],[1.0,\"#f0f921\"]]}],\"choropleth\":[{\"type\":\"choropleth\",\"colorbar\":{\"outlinewidth\":0,\"ticks\":\"\"}}],\"histogram2d\":[{\"type\":\"histogram2d\",\"colorbar\":{\"outlinewidth\":0,\"ticks\":\"\"},\"colorscale\":[[0.0,\"#0d0887\"],[0.1111111111111111,\"#46039f\"],[0.2222222222222222,\"#7201a8\"],[0.3333333333333333,\"#9c179e\"],[0.4444444444444444,\"#bd3786\"],[0.5555555555555556,\"#d8576b\"],[0.6666666666666666,\"#ed7953\"],[0.7777777777777778,\"#fb9f3a\"],[0.8888888888888888,\"#fdca26\"],[1.0,\"#f0f921\"]]}],\"heatmap\":[{\"type\":\"heatmap\",\"colorbar\":{\"outlinewidth\":0,\"ticks\":\"\"},\"colorscale\":[[0.0,\"#0d0887\"],[0.1111111111111111,\"#46039f\"],[0.2222222222222222,\"#7201a8\"],[0.3333333333333333,\"#9c179e\"],[0.4444444444444444,\"#bd3786\"],[0.5555555555555556,\"#d8576b\"],[0.6666666666666666,\"#ed7953\"],[0.7777777777777778,\"#fb9f3a\"],[0.8888888888888888,\"#fdca26\"],[1.0,\"#f0f921\"]]}],\"heatmapgl\":[{\"type\":\"heatmapgl\",\"colorbar\":{\"outlinewidth\":0,\"ticks\":\"\"},\"colorscale\":[[0.0,\"#0d0887\"],[0.1111111111111111,\"#46039f\"],[0.2222222222222222,\"#7201a8\"],[0.3333333333333333,\"#9c179e\"],[0.4444444444444444,\"#bd3786\"],[0.5555555555555556,\"#d8576b\"],[0.6666666666666666,\"#ed7953\"],[0.7777777777777778,\"#fb9f3a\"],[0.8888888888888888,\"#fdca26\"],[1.0,\"#f0f921\"]]}],\"contourcarpet\":[{\"type\":\"contourcarpet\",\"colorbar\":{\"outlinewidth\":0,\"ticks\":\"\"}}],\"contour\":[{\"type\":\"contour\",\"colorbar\":{\"outlinewidth\":0,\"ticks\":\"\"},\"colorscale\":[[0.0,\"#0d0887\"],[0.1111111111111111,\"#46039f\"],[0.2222222222222222,\"#7201a8\"],[0.3333333333333333,\"#9c179e\"],[0.4444444444444444,\"#bd3786\"],[0.5555555555555556,\"#d8576b\"],[0.6666666666666666,\"#ed7953\"],[0.7777777777777778,\"#fb9f3a\"],[0.8888888888888888,\"#fdca26\"],[1.0,\"#f0f921\"]]}],\"surface\":[{\"type\":\"surface\",\"colorbar\":{\"outlinewidth\":0,\"ticks\":\"\"},\"colorscale\":[[0.0,\"#0d0887\"],[0.1111111111111111,\"#46039f\"],[0.2222222222222222,\"#7201a8\"],[0.3333333333333333,\"#9c179e\"],[0.4444444444444444,\"#bd3786\"],[0.5555555555555556,\"#d8576b\"],[0.6666666666666666,\"#ed7953\"],[0.7777777777777778,\"#fb9f3a\"],[0.8888888888888888,\"#fdca26\"],[1.0,\"#f0f921\"]]}],\"mesh3d\":[{\"type\":\"mesh3d\",\"colorbar\":{\"outlinewidth\":0,\"ticks\":\"\"}}],\"scatter\":[{\"fillpattern\":{\"fillmode\":\"overlay\",\"size\":10,\"solidity\":0.2},\"type\":\"scatter\"}],\"parcoords\":[{\"type\":\"parcoords\",\"line\":{\"colorbar\":{\"outlinewidth\":0,\"ticks\":\"\"}}}],\"scatterpolargl\":[{\"type\":\"scatterpolargl\",\"marker\":{\"colorbar\":{\"outlinewidth\":0,\"ticks\":\"\"}}}],\"bar\":[{\"error_x\":{\"color\":\"#2a3f5f\"},\"error_y\":{\"color\":\"#2a3f5f\"},\"marker\":{\"line\":{\"color\":\"#E5ECF6\",\"width\":0.5},\"pattern\":{\"fillmode\":\"overlay\",\"size\":10,\"solidity\":0.2}},\"type\":\"bar\"}],\"scattergeo\":[{\"type\":\"scattergeo\",\"marker\":{\"colorbar\":{\"outlinewidth\":0,\"ticks\":\"\"}}}],\"scatterpolar\":[{\"type\":\"scatterpolar\",\"marker\":{\"colorbar\":{\"outlinewidth\":0,\"ticks\":\"\"}}}],\"histogram\":[{\"marker\":{\"pattern\":{\"fillmode\":\"overlay\",\"size\":10,\"solidity\":0.2}},\"type\":\"histogram\"}],\"scattergl\":[{\"type\":\"scattergl\",\"marker\":{\"colorbar\":{\"outlinewidth\":0,\"ticks\":\"\"}}}],\"scatter3d\":[{\"type\":\"scatter3d\",\"line\":{\"colorbar\":{\"outlinewidth\":0,\"ticks\":\"\"}},\"marker\":{\"colorbar\":{\"outlinewidth\":0,\"ticks\":\"\"}}}],\"scattermapbox\":[{\"type\":\"scattermapbox\",\"marker\":{\"colorbar\":{\"outlinewidth\":0,\"ticks\":\"\"}}}],\"scatterternary\":[{\"type\":\"scatterternary\",\"marker\":{\"colorbar\":{\"outlinewidth\":0,\"ticks\":\"\"}}}],\"scattercarpet\":[{\"type\":\"scattercarpet\",\"marker\":{\"colorbar\":{\"outlinewidth\":0,\"ticks\":\"\"}}}],\"carpet\":[{\"aaxis\":{\"endlinecolor\":\"#2a3f5f\",\"gridcolor\":\"white\",\"linecolor\":\"white\",\"minorgridcolor\":\"white\",\"startlinecolor\":\"#2a3f5f\"},\"baxis\":{\"endlinecolor\":\"#2a3f5f\",\"gridcolor\":\"white\",\"linecolor\":\"white\",\"minorgridcolor\":\"white\",\"startlinecolor\":\"#2a3f5f\"},\"type\":\"carpet\"}],\"table\":[{\"cells\":{\"fill\":{\"color\":\"#EBF0F8\"},\"line\":{\"color\":\"white\"}},\"header\":{\"fill\":{\"color\":\"#C8D4E3\"},\"line\":{\"color\":\"white\"}},\"type\":\"table\"}],\"barpolar\":[{\"marker\":{\"line\":{\"color\":\"#E5ECF6\",\"width\":0.5},\"pattern\":{\"fillmode\":\"overlay\",\"size\":10,\"solidity\":0.2}},\"type\":\"barpolar\"}],\"pie\":[{\"automargin\":true,\"type\":\"pie\"}]},\"layout\":{\"autotypenumbers\":\"strict\",\"colorway\":[\"#636efa\",\"#EF553B\",\"#00cc96\",\"#ab63fa\",\"#FFA15A\",\"#19d3f3\",\"#FF6692\",\"#B6E880\",\"#FF97FF\",\"#FECB52\"],\"font\":{\"color\":\"#2a3f5f\"},\"hovermode\":\"closest\",\"hoverlabel\":{\"align\":\"left\"},\"paper_bgcolor\":\"white\",\"plot_bgcolor\":\"#E5ECF6\",\"polar\":{\"bgcolor\":\"#E5ECF6\",\"angularaxis\":{\"gridcolor\":\"white\",\"linecolor\":\"white\",\"ticks\":\"\"},\"radialaxis\":{\"gridcolor\":\"white\",\"linecolor\":\"white\",\"ticks\":\"\"}},\"ternary\":{\"bgcolor\":\"#E5ECF6\",\"aaxis\":{\"gridcolor\":\"white\",\"linecolor\":\"white\",\"ticks\":\"\"},\"baxis\":{\"gridcolor\":\"white\",\"linecolor\":\"white\",\"ticks\":\"\"},\"caxis\":{\"gridcolor\":\"white\",\"linecolor\":\"white\",\"ticks\":\"\"}},\"coloraxis\":{\"colorbar\":{\"outlinewidth\":0,\"ticks\":\"\"}},\"colorscale\":{\"sequential\":[[0.0,\"#0d0887\"],[0.1111111111111111,\"#46039f\"],[0.2222222222222222,\"#7201a8\"],[0.3333333333333333,\"#9c179e\"],[0.4444444444444444,\"#bd3786\"],[0.5555555555555556,\"#d8576b\"],[0.6666666666666666,\"#ed7953\"],[0.7777777777777778,\"#fb9f3a\"],[0.8888888888888888,\"#fdca26\"],[1.0,\"#f0f921\"]],\"sequentialminus\":[[0.0,\"#0d0887\"],[0.1111111111111111,\"#46039f\"],[0.2222222222222222,\"#7201a8\"],[0.3333333333333333,\"#9c179e\"],[0.4444444444444444,\"#bd3786\"],[0.5555555555555556,\"#d8576b\"],[0.6666666666666666,\"#ed7953\"],[0.7777777777777778,\"#fb9f3a\"],[0.8888888888888888,\"#fdca26\"],[1.0,\"#f0f921\"]],\"diverging\":[[0,\"#8e0152\"],[0.1,\"#c51b7d\"],[0.2,\"#de77ae\"],[0.3,\"#f1b6da\"],[0.4,\"#fde0ef\"],[0.5,\"#f7f7f7\"],[0.6,\"#e6f5d0\"],[0.7,\"#b8e186\"],[0.8,\"#7fbc41\"],[0.9,\"#4d9221\"],[1,\"#276419\"]]},\"xaxis\":{\"gridcolor\":\"white\",\"linecolor\":\"white\",\"ticks\":\"\",\"title\":{\"standoff\":15},\"zerolinecolor\":\"white\",\"automargin\":true,\"zerolinewidth\":2},\"yaxis\":{\"gridcolor\":\"white\",\"linecolor\":\"white\",\"ticks\":\"\",\"title\":{\"standoff\":15},\"zerolinecolor\":\"white\",\"automargin\":true,\"zerolinewidth\":2},\"scene\":{\"xaxis\":{\"backgroundcolor\":\"#E5ECF6\",\"gridcolor\":\"white\",\"linecolor\":\"white\",\"showbackground\":true,\"ticks\":\"\",\"zerolinecolor\":\"white\",\"gridwidth\":2},\"yaxis\":{\"backgroundcolor\":\"#E5ECF6\",\"gridcolor\":\"white\",\"linecolor\":\"white\",\"showbackground\":true,\"ticks\":\"\",\"zerolinecolor\":\"white\",\"gridwidth\":2},\"zaxis\":{\"backgroundcolor\":\"#E5ECF6\",\"gridcolor\":\"white\",\"linecolor\":\"white\",\"showbackground\":true,\"ticks\":\"\",\"zerolinecolor\":\"white\",\"gridwidth\":2}},\"shapedefaults\":{\"line\":{\"color\":\"#2a3f5f\"}},\"annotationdefaults\":{\"arrowcolor\":\"#2a3f5f\",\"arrowhead\":0,\"arrowwidth\":1},\"geo\":{\"bgcolor\":\"white\",\"landcolor\":\"#E5ECF6\",\"subunitcolor\":\"white\",\"showland\":true,\"showlakes\":true,\"lakecolor\":\"white\"},\"title\":{\"x\":0.05},\"mapbox\":{\"style\":\"light\"}}},\"xaxis\":{\"anchor\":\"y\",\"domain\":[0.0,1.0],\"title\":{\"text\":\"Runs\"}},\"yaxis\":{\"anchor\":\"x\",\"domain\":[0.0,1.0],\"title\":{\"text\":\"SR\"}},\"legend\":{\"title\":{\"text\":\"Team\"},\"tracegroupgap\":0},\"margin\":{\"t\":60}},                        {\"responsive\": true}                    ).then(function(){\n",
              "                            \n",
              "var gd = document.getElementById('f4ba96b1-e0e5-4d93-8c9a-0b4bcded4ced');\n",
              "var x = new MutationObserver(function (mutations, observer) {{\n",
              "        var display = window.getComputedStyle(gd).display;\n",
              "        if (!display || display === 'none') {{\n",
              "            console.log([gd, 'removed!']);\n",
              "            Plotly.purge(gd);\n",
              "            observer.disconnect();\n",
              "        }}\n",
              "}});\n",
              "\n",
              "// Listen for the removal of the full notebook cells\n",
              "var notebookContainer = gd.closest('#notebook-container');\n",
              "if (notebookContainer) {{\n",
              "    x.observe(notebookContainer, {childList: true});\n",
              "}}\n",
              "\n",
              "// Listen for the clearing of the current output cell\n",
              "var outputEl = gd.closest('.output');\n",
              "if (outputEl) {{\n",
              "    x.observe(outputEl, {childList: true});\n",
              "}}\n",
              "\n",
              "                        })                };                            </script>        </div>\n",
              "</body>\n",
              "</html>"
            ]
          },
          "metadata": {}
        }
      ]
    },
    {
      "cell_type": "code",
      "source": [
        "fig = px.pie(batting,values='Ave',names='Team')\n",
        "fig.show()"
      ],
      "metadata": {
        "id": "WCPdZVbqo0fs",
        "colab": {
          "base_uri": "https://localhost:8080/",
          "height": 542
        },
        "outputId": "c6d51bf2-2c7d-4d45-a74f-c9f00e86ba54"
      },
      "execution_count": null,
      "outputs": [
        {
          "output_type": "display_data",
          "data": {
            "text/html": [
              "<html>\n",
              "<head><meta charset=\"utf-8\" /></head>\n",
              "<body>\n",
              "    <div>            <script src=\"https://cdnjs.cloudflare.com/ajax/libs/mathjax/2.7.5/MathJax.js?config=TeX-AMS-MML_SVG\"></script><script type=\"text/javascript\">if (window.MathJax && window.MathJax.Hub && window.MathJax.Hub.Config) {window.MathJax.Hub.Config({SVG: {font: \"STIX-Web\"}});}</script>                <script type=\"text/javascript\">window.PlotlyConfig = {MathJaxConfig: 'local'};</script>\n",
              "        <script charset=\"utf-8\" src=\"https://cdn.plot.ly/plotly-2.24.1.min.js\"></script>                <div id=\"9abcbe1f-1925-405b-b34e-405eaaeaf30b\" class=\"plotly-graph-div\" style=\"height:525px; width:100%;\"></div>            <script type=\"text/javascript\">                                    window.PLOTLYENV=window.PLOTLYENV || {};                                    if (document.getElementById(\"9abcbe1f-1925-405b-b34e-405eaaeaf30b\")) {                    Plotly.newPlot(                        \"9abcbe1f-1925-405b-b34e-405eaaeaf30b\",                        [{\"domain\":{\"x\":[0.0,1.0],\"y\":[0.0,1.0]},\"hovertemplate\":\"Team=%{label}\\u003cbr\\u003eAve=%{value}\\u003cextra\\u003e\\u003c\\u002fextra\\u003e\",\"labels\":[\"United States of America\",\"United States of America\",\"Nepal\",\"Pakistan\",\"Uganda\",\"Ireland\",\"Australia\",\"Nepal\",\"England\",\"United States of America\",\"New Zealand\",\"Papua New Guinea\",\"United States of America\",\"Oman\",\"England\",\"India\",\"Sri Lanka\",\"Oman\",\"Oman\",\"Pakistan\",\"Afghanistan\",\"Pakistan\",\"England\",\"Canada\",\"Ireland\",\"Papua New Guinea\",\"Scotland\",\"Nepal\",\"Uganda\",\"Oman\",\"Nepal\",\"New Zealand\",\"New Zealand\",\"Namibia\",\"England\",\"India\",\"England\",\"Ireland\",\"New Zealand\",\"West Indies\",\"West Indies\",\"New Zealand\",\"Scotland\",\"Australia\",\"England\",\"Australia\",\"Namibia\",\"South Africa\",\"Ireland\",\"Netherlands\",\"Sri Lanka\",\"Nepal\",\"Canada\",\"Ireland\",\"Papua New Guinea\",\"India\",\"Netherlands\",\"Netherlands\",\"Netherlands\",\"Namibia\",\"Pakistan\",\"Oman\",\"Afghanistan\",\"New Zealand\",\"Namibia\",\"United States of America\",\"Scotland\",\"Namibia\",\"Afghanistan\",\"Nepal\",\"Pakistan\",\"United States of America\",\"Sri Lanka\",\"Australia\",\"Afghanistan\",\"Australia\",\"South Africa\",\"New Zealand\",\"Canada\",\"Papua New Guinea\",\"West Indies\",\"West Indies\",\"Afghanistan\",\"Pakistan\",\"Pakistan\",\"England\",\"India\",\"Bangladesh\",\"South Africa\",\"United States of America\",\"Canada\",\"Scotland\",\"Nepal\",\"England\",\"West Indies\",\"Oman\",\"Canada\",\"Papua New Guinea\",\"Nepal\",\"Papua New Guinea\",\"Afghanistan\",\"Oman\",\"West Indies\",\"Netherlands\",\"Canada\",\"South Africa\",\"India\",\"Namibia\",\"Namibia\",\"United States of America\",\"Nepal\",\"Uganda\",\"Nepal\",\"Scotland\",\"Netherlands\",\"Ireland\",\"Bangladesh\",\"England\",\"Namibia\",\"South Africa\",\"Bangladesh\",\"Bangladesh\",\"South Africa\",\"Australia\",\"Uganda\",\"Sri Lanka\",\"Australia\",\"West Indies\",\"Ireland\",\"Scotland\",\"Oman\",\"Sri Lanka\",\"Sri Lanka\",\"United States of America\",\"South Africa\",\"New Zealand\",\"Uganda\",\"Afghanistan\",\"Oman\",\"Pakistan\",\"India\",\"Papua New Guinea\",\"West Indies\",\"Canada\",\"Uganda\",\"Scotland\",\"Bangladesh\",\"Afghanistan\",\"Uganda\",\"Afghanistan\",\"Papua New Guinea\",\"Oman\",\"Pakistan\",\"Afghanistan\",\"Bangladesh\",\"New Zealand\",\"United States of America\",\"Netherlands\",\"Sri Lanka\",\"Afghanistan\",\"South Africa\",\"Uganda\",\"Uganda\",\"Netherlands\",\"India\",\"India\",\"Canada\",\"India\",\"United States of America\",\"Uganda\",\"Sri Lanka\",\"Nepal\",\"New Zealand\",\"West Indies\",\"West Indies\",\"Oman\",\"Netherlands\",\"South Africa\",\"Oman\",\"Afghanistan\",\"Uganda\",\"England\",\"Afghanistan\",\"Canada\",\"New Zealand\",\"Uganda\",\"Bangladesh\",\"West Indies\",\"West Indies\",\"Canada\",\"Nepal\",\"Pakistan\",\"England\",\"Sri Lanka\",\"New Zealand\",\"Namibia\",\"Uganda\",\"Pakistan\",\"Pakistan\",\"Oman\",\"Sri Lanka\",\"Bangladesh\",\"India\",\"United States of America\",\"West Indies\",\"Namibia\",\"Oman\",\"Papua New Guinea\",\"Namibia\",\"Nepal\",\"Papua New Guinea\",\"Bangladesh\",\"New Zealand\",\"Uganda\",\"Australia\",\"Ireland\",\"Australia\",\"South Africa\",\"Bangladesh\",\"Bangladesh\",\"Bangladesh\",\"United States of America\",\"Ireland\",\"Sri Lanka\",\"Sri Lanka\",\"England\",\"Bangladesh\",\"Namibia\",\"Ireland\",\"Papua New Guinea\",\"Pakistan\",\"Papua New Guinea\",\"Netherlands\",\"Namibia\",\"Netherlands\",\"United States of America\",\"Papua New Guinea\",\"Netherlands\",\"Australia\",\"Uganda\",\"Australia\",\"Ireland\",\"Namibia\",\"New Zealand\",\"India\",\"Australia\",\"Oman\"],\"legendgroup\":\"\",\"name\":\"\",\"showlegend\":true,\"values\":[0.5,40.5,21.0,17.0,9.0,17.33,2.0,10.66,14.2,14.0,8.75,11.33,16.5,10.5,22.0,12.0,23.66,19.66,31.0,0.0,13.87,40.66,27.5,9.0,7.33,16.75,102.0,8.0,8.0,0.0,0.0,10.0,0.0,0.0,72.5,0.0,42.8,7.66,4.0,23.33,47.0,23.33,18.0,7.0,12.0,15.25,16.0,27.0,20.0,6.66,27.5,0.0,23.66,22.0,23.66,22.16,25.0,17.75,24.5,34.0,8.25,2.0,0.0,2.0,19.33,43.8,0.0,9.66,12.85,6.66,0.0,17.25,10.0,0.0,2.0,42.5,14.12,12.0,10.0,6.25,53.5,10.5,28.87,11.5,9.5,7.5,11.66,11.66,8.0,4.0,29.66,29.66,1.0,2.0,17.0,6.5,0.0,3.0,17.0,0.0,14.33,12.0,21.5,0.0,33.66,31.66,18.87,0.0,3.0,24.75,12.33,2.0,0.0,20.0,12.5,36.0,23.16,18.0,0.0,13.0,5.0,15.83,15.37,20.83,2.0,31.0,26.4,35.0,2.0,70.0,11.75,25.0,10.66,11.5,28.16,18.0,13.0,11.2,6.0,36.66,0.0,2.0,0.0,35.5,0.0,41.33,1.5,7.33,2.5,3.0,5.25,8.0,0.0,2.0,16.0,10.0,0.0,0.0,16.66,4.66,0.0,0.0,5.25,26.33,48.0,24.42,8.33,23.0,33.0,3.0,0.0,12.0,29.0,38.0,17.0,5.33,1.0,4.5,0.0,35.12,3.25,2.0,11.4,0.0,8.5,12.25,8.0,26.0,40.33,11.0,12.66,11.5,37.6,0.0,25.0,6.0,2.25,14.66,0.0,12.5,4.0,18.5,36.71,1.5,23.0,0.0,5.5,4.33,7.33,4.0,6.0,5.0,0.0,0.0,0.0,4.0,42.25,33.0,10.85,6.0,14.0,12.33,3.66,7.0,0.0,0.0,21.85,4.0,7.33,4.0,6.66,7.5,8.33,14.33,4.0,29.0,6.33,16.75,13.5,9.5,29.66,0.0,17.0,14.0,28.42,9.0,6.75],\"type\":\"pie\"}],                        {\"template\":{\"data\":{\"histogram2dcontour\":[{\"type\":\"histogram2dcontour\",\"colorbar\":{\"outlinewidth\":0,\"ticks\":\"\"},\"colorscale\":[[0.0,\"#0d0887\"],[0.1111111111111111,\"#46039f\"],[0.2222222222222222,\"#7201a8\"],[0.3333333333333333,\"#9c179e\"],[0.4444444444444444,\"#bd3786\"],[0.5555555555555556,\"#d8576b\"],[0.6666666666666666,\"#ed7953\"],[0.7777777777777778,\"#fb9f3a\"],[0.8888888888888888,\"#fdca26\"],[1.0,\"#f0f921\"]]}],\"choropleth\":[{\"type\":\"choropleth\",\"colorbar\":{\"outlinewidth\":0,\"ticks\":\"\"}}],\"histogram2d\":[{\"type\":\"histogram2d\",\"colorbar\":{\"outlinewidth\":0,\"ticks\":\"\"},\"colorscale\":[[0.0,\"#0d0887\"],[0.1111111111111111,\"#46039f\"],[0.2222222222222222,\"#7201a8\"],[0.3333333333333333,\"#9c179e\"],[0.4444444444444444,\"#bd3786\"],[0.5555555555555556,\"#d8576b\"],[0.6666666666666666,\"#ed7953\"],[0.7777777777777778,\"#fb9f3a\"],[0.8888888888888888,\"#fdca26\"],[1.0,\"#f0f921\"]]}],\"heatmap\":[{\"type\":\"heatmap\",\"colorbar\":{\"outlinewidth\":0,\"ticks\":\"\"},\"colorscale\":[[0.0,\"#0d0887\"],[0.1111111111111111,\"#46039f\"],[0.2222222222222222,\"#7201a8\"],[0.3333333333333333,\"#9c179e\"],[0.4444444444444444,\"#bd3786\"],[0.5555555555555556,\"#d8576b\"],[0.6666666666666666,\"#ed7953\"],[0.7777777777777778,\"#fb9f3a\"],[0.8888888888888888,\"#fdca26\"],[1.0,\"#f0f921\"]]}],\"heatmapgl\":[{\"type\":\"heatmapgl\",\"colorbar\":{\"outlinewidth\":0,\"ticks\":\"\"},\"colorscale\":[[0.0,\"#0d0887\"],[0.1111111111111111,\"#46039f\"],[0.2222222222222222,\"#7201a8\"],[0.3333333333333333,\"#9c179e\"],[0.4444444444444444,\"#bd3786\"],[0.5555555555555556,\"#d8576b\"],[0.6666666666666666,\"#ed7953\"],[0.7777777777777778,\"#fb9f3a\"],[0.8888888888888888,\"#fdca26\"],[1.0,\"#f0f921\"]]}],\"contourcarpet\":[{\"type\":\"contourcarpet\",\"colorbar\":{\"outlinewidth\":0,\"ticks\":\"\"}}],\"contour\":[{\"type\":\"contour\",\"colorbar\":{\"outlinewidth\":0,\"ticks\":\"\"},\"colorscale\":[[0.0,\"#0d0887\"],[0.1111111111111111,\"#46039f\"],[0.2222222222222222,\"#7201a8\"],[0.3333333333333333,\"#9c179e\"],[0.4444444444444444,\"#bd3786\"],[0.5555555555555556,\"#d8576b\"],[0.6666666666666666,\"#ed7953\"],[0.7777777777777778,\"#fb9f3a\"],[0.8888888888888888,\"#fdca26\"],[1.0,\"#f0f921\"]]}],\"surface\":[{\"type\":\"surface\",\"colorbar\":{\"outlinewidth\":0,\"ticks\":\"\"},\"colorscale\":[[0.0,\"#0d0887\"],[0.1111111111111111,\"#46039f\"],[0.2222222222222222,\"#7201a8\"],[0.3333333333333333,\"#9c179e\"],[0.4444444444444444,\"#bd3786\"],[0.5555555555555556,\"#d8576b\"],[0.6666666666666666,\"#ed7953\"],[0.7777777777777778,\"#fb9f3a\"],[0.8888888888888888,\"#fdca26\"],[1.0,\"#f0f921\"]]}],\"mesh3d\":[{\"type\":\"mesh3d\",\"colorbar\":{\"outlinewidth\":0,\"ticks\":\"\"}}],\"scatter\":[{\"fillpattern\":{\"fillmode\":\"overlay\",\"size\":10,\"solidity\":0.2},\"type\":\"scatter\"}],\"parcoords\":[{\"type\":\"parcoords\",\"line\":{\"colorbar\":{\"outlinewidth\":0,\"ticks\":\"\"}}}],\"scatterpolargl\":[{\"type\":\"scatterpolargl\",\"marker\":{\"colorbar\":{\"outlinewidth\":0,\"ticks\":\"\"}}}],\"bar\":[{\"error_x\":{\"color\":\"#2a3f5f\"},\"error_y\":{\"color\":\"#2a3f5f\"},\"marker\":{\"line\":{\"color\":\"#E5ECF6\",\"width\":0.5},\"pattern\":{\"fillmode\":\"overlay\",\"size\":10,\"solidity\":0.2}},\"type\":\"bar\"}],\"scattergeo\":[{\"type\":\"scattergeo\",\"marker\":{\"colorbar\":{\"outlinewidth\":0,\"ticks\":\"\"}}}],\"scatterpolar\":[{\"type\":\"scatterpolar\",\"marker\":{\"colorbar\":{\"outlinewidth\":0,\"ticks\":\"\"}}}],\"histogram\":[{\"marker\":{\"pattern\":{\"fillmode\":\"overlay\",\"size\":10,\"solidity\":0.2}},\"type\":\"histogram\"}],\"scattergl\":[{\"type\":\"scattergl\",\"marker\":{\"colorbar\":{\"outlinewidth\":0,\"ticks\":\"\"}}}],\"scatter3d\":[{\"type\":\"scatter3d\",\"line\":{\"colorbar\":{\"outlinewidth\":0,\"ticks\":\"\"}},\"marker\":{\"colorbar\":{\"outlinewidth\":0,\"ticks\":\"\"}}}],\"scattermapbox\":[{\"type\":\"scattermapbox\",\"marker\":{\"colorbar\":{\"outlinewidth\":0,\"ticks\":\"\"}}}],\"scatterternary\":[{\"type\":\"scatterternary\",\"marker\":{\"colorbar\":{\"outlinewidth\":0,\"ticks\":\"\"}}}],\"scattercarpet\":[{\"type\":\"scattercarpet\",\"marker\":{\"colorbar\":{\"outlinewidth\":0,\"ticks\":\"\"}}}],\"carpet\":[{\"aaxis\":{\"endlinecolor\":\"#2a3f5f\",\"gridcolor\":\"white\",\"linecolor\":\"white\",\"minorgridcolor\":\"white\",\"startlinecolor\":\"#2a3f5f\"},\"baxis\":{\"endlinecolor\":\"#2a3f5f\",\"gridcolor\":\"white\",\"linecolor\":\"white\",\"minorgridcolor\":\"white\",\"startlinecolor\":\"#2a3f5f\"},\"type\":\"carpet\"}],\"table\":[{\"cells\":{\"fill\":{\"color\":\"#EBF0F8\"},\"line\":{\"color\":\"white\"}},\"header\":{\"fill\":{\"color\":\"#C8D4E3\"},\"line\":{\"color\":\"white\"}},\"type\":\"table\"}],\"barpolar\":[{\"marker\":{\"line\":{\"color\":\"#E5ECF6\",\"width\":0.5},\"pattern\":{\"fillmode\":\"overlay\",\"size\":10,\"solidity\":0.2}},\"type\":\"barpolar\"}],\"pie\":[{\"automargin\":true,\"type\":\"pie\"}]},\"layout\":{\"autotypenumbers\":\"strict\",\"colorway\":[\"#636efa\",\"#EF553B\",\"#00cc96\",\"#ab63fa\",\"#FFA15A\",\"#19d3f3\",\"#FF6692\",\"#B6E880\",\"#FF97FF\",\"#FECB52\"],\"font\":{\"color\":\"#2a3f5f\"},\"hovermode\":\"closest\",\"hoverlabel\":{\"align\":\"left\"},\"paper_bgcolor\":\"white\",\"plot_bgcolor\":\"#E5ECF6\",\"polar\":{\"bgcolor\":\"#E5ECF6\",\"angularaxis\":{\"gridcolor\":\"white\",\"linecolor\":\"white\",\"ticks\":\"\"},\"radialaxis\":{\"gridcolor\":\"white\",\"linecolor\":\"white\",\"ticks\":\"\"}},\"ternary\":{\"bgcolor\":\"#E5ECF6\",\"aaxis\":{\"gridcolor\":\"white\",\"linecolor\":\"white\",\"ticks\":\"\"},\"baxis\":{\"gridcolor\":\"white\",\"linecolor\":\"white\",\"ticks\":\"\"},\"caxis\":{\"gridcolor\":\"white\",\"linecolor\":\"white\",\"ticks\":\"\"}},\"coloraxis\":{\"colorbar\":{\"outlinewidth\":0,\"ticks\":\"\"}},\"colorscale\":{\"sequential\":[[0.0,\"#0d0887\"],[0.1111111111111111,\"#46039f\"],[0.2222222222222222,\"#7201a8\"],[0.3333333333333333,\"#9c179e\"],[0.4444444444444444,\"#bd3786\"],[0.5555555555555556,\"#d8576b\"],[0.6666666666666666,\"#ed7953\"],[0.7777777777777778,\"#fb9f3a\"],[0.8888888888888888,\"#fdca26\"],[1.0,\"#f0f921\"]],\"sequentialminus\":[[0.0,\"#0d0887\"],[0.1111111111111111,\"#46039f\"],[0.2222222222222222,\"#7201a8\"],[0.3333333333333333,\"#9c179e\"],[0.4444444444444444,\"#bd3786\"],[0.5555555555555556,\"#d8576b\"],[0.6666666666666666,\"#ed7953\"],[0.7777777777777778,\"#fb9f3a\"],[0.8888888888888888,\"#fdca26\"],[1.0,\"#f0f921\"]],\"diverging\":[[0,\"#8e0152\"],[0.1,\"#c51b7d\"],[0.2,\"#de77ae\"],[0.3,\"#f1b6da\"],[0.4,\"#fde0ef\"],[0.5,\"#f7f7f7\"],[0.6,\"#e6f5d0\"],[0.7,\"#b8e186\"],[0.8,\"#7fbc41\"],[0.9,\"#4d9221\"],[1,\"#276419\"]]},\"xaxis\":{\"gridcolor\":\"white\",\"linecolor\":\"white\",\"ticks\":\"\",\"title\":{\"standoff\":15},\"zerolinecolor\":\"white\",\"automargin\":true,\"zerolinewidth\":2},\"yaxis\":{\"gridcolor\":\"white\",\"linecolor\":\"white\",\"ticks\":\"\",\"title\":{\"standoff\":15},\"zerolinecolor\":\"white\",\"automargin\":true,\"zerolinewidth\":2},\"scene\":{\"xaxis\":{\"backgroundcolor\":\"#E5ECF6\",\"gridcolor\":\"white\",\"linecolor\":\"white\",\"showbackground\":true,\"ticks\":\"\",\"zerolinecolor\":\"white\",\"gridwidth\":2},\"yaxis\":{\"backgroundcolor\":\"#E5ECF6\",\"gridcolor\":\"white\",\"linecolor\":\"white\",\"showbackground\":true,\"ticks\":\"\",\"zerolinecolor\":\"white\",\"gridwidth\":2},\"zaxis\":{\"backgroundcolor\":\"#E5ECF6\",\"gridcolor\":\"white\",\"linecolor\":\"white\",\"showbackground\":true,\"ticks\":\"\",\"zerolinecolor\":\"white\",\"gridwidth\":2}},\"shapedefaults\":{\"line\":{\"color\":\"#2a3f5f\"}},\"annotationdefaults\":{\"arrowcolor\":\"#2a3f5f\",\"arrowhead\":0,\"arrowwidth\":1},\"geo\":{\"bgcolor\":\"white\",\"landcolor\":\"#E5ECF6\",\"subunitcolor\":\"white\",\"showland\":true,\"showlakes\":true,\"lakecolor\":\"white\"},\"title\":{\"x\":0.05},\"mapbox\":{\"style\":\"light\"}}},\"legend\":{\"tracegroupgap\":0},\"margin\":{\"t\":60}},                        {\"responsive\": true}                    ).then(function(){\n",
              "                            \n",
              "var gd = document.getElementById('9abcbe1f-1925-405b-b34e-405eaaeaf30b');\n",
              "var x = new MutationObserver(function (mutations, observer) {{\n",
              "        var display = window.getComputedStyle(gd).display;\n",
              "        if (!display || display === 'none') {{\n",
              "            console.log([gd, 'removed!']);\n",
              "            Plotly.purge(gd);\n",
              "            observer.disconnect();\n",
              "        }}\n",
              "}});\n",
              "\n",
              "// Listen for the removal of the full notebook cells\n",
              "var notebookContainer = gd.closest('#notebook-container');\n",
              "if (notebookContainer) {{\n",
              "    x.observe(notebookContainer, {childList: true});\n",
              "}}\n",
              "\n",
              "// Listen for the clearing of the current output cell\n",
              "var outputEl = gd.closest('.output');\n",
              "if (outputEl) {{\n",
              "    x.observe(outputEl, {childList: true});\n",
              "}}\n",
              "\n",
              "                        })                };                            </script>        </div>\n",
              "</body>\n",
              "</html>"
            ]
          },
          "metadata": {}
        }
      ]
    },
    {
      "cell_type": "code",
      "source": [
        "highest_average_score_team = batting[batting['Ave']==batting['Ave'].max()]\n",
        "print(highest_average_score_team)\n"
      ],
      "metadata": {
        "colab": {
          "base_uri": "https://localhost:8080/"
        },
        "id": "4U9a2HFNwjkL",
        "outputId": "8fb8307c-0e47-4c05-92b3-86da377bc580"
      },
      "execution_count": null,
      "outputs": [
        {
          "output_type": "stream",
          "name": "stdout",
          "text": [
            "           Player      Team  Mat  Inns  NO  Runs   HS    Ave      SR  100  50  \\\n",
            "26  RD Berrington  Scotland    4     3   2   102  47*  102.0  139.72    0   0   \n",
            "\n",
            "    0  \n",
            "26  0  \n"
          ]
        }
      ]
    },
    {
      "cell_type": "code",
      "source": [
        "#matches played by top 5 run scorers\n",
        "top_5_players = batting.nlargest(5,'Runs')\n",
        "print(top_5_players)\n",
        "x = top_5_players['Player']\n",
        "y = top_5_players['Mat']\n",
        "plt.scatter(x,y)\n",
        "plt.xlabel('Player')\n",
        "plt.ylabel('Matches')\n",
        "plt.title('Players Matches ')\n",
        "plt.show()"
      ],
      "metadata": {
        "colab": {
          "base_uri": "https://localhost:8080/",
          "height": 708
        },
        "id": "d5p-MlzkxqvH",
        "outputId": "4b131f30-4523-471f-eb49-0de521259ebe"
      },
      "execution_count": null,
      "outputs": [
        {
          "output_type": "stream",
          "name": "stdout",
          "text": [
            "                 Player          Team  Mat  Inns  NO  Runs  HS    Ave      SR  \\\n",
            "179  Rahmanullah Gurbaz   Afghanistan    8     8   0   281  80  35.12  124.33   \n",
            "202           RG Sharma         India    8     8   1   257  92  36.71  156.70   \n",
            "75              TM Head     Australia    7     7   1   255  76  42.50  158.38   \n",
            "47            Q de Kock  South Africa    9     9   0   243  74  27.00  140.46   \n",
            "82       Ibrahim Zadran   Afghanistan    8     8   0   231  70  28.87  107.44   \n",
            "\n",
            "     100  50  0  \n",
            "179    0   3  2  \n",
            "202    0   3  0  \n",
            "75     0   2  1  \n",
            "47     0   2  1  \n",
            "82     0   2  1  \n"
          ]
        },
        {
          "output_type": "display_data",
          "data": {
            "text/plain": [
              "<Figure size 640x480 with 1 Axes>"
            ],
            "image/png": "[encoded data removed]"
          },
          "metadata": {}
        }
      ]
    },
    {
      "cell_type": "code",
      "source": [
        "R = batting.drop(['Player','Team','Runs','Ave','SR','Mat'],axis=1)\n",
        "S = batting['Runs']"
      ],
      "metadata": {
        "id": "P8hlAsz-zqvQ"
      },
      "execution_count": null,
      "outputs": []
    },
    {
      "cell_type": "code",
      "source": [
        "# Assuming 'R' contains non-numeric columns that need to be converted\n",
        "R_encoded = pd.get_dummies(R, columns=['Inns', 'NO', 'HS'], drop_first=True)  # Replace 'Inns', 'NO', 'HS' with actual non-numeric column names\n",
        "\n",
        "X_train, X_test, Y_train, Y_test = train_test_split(R_encoded, S, test_size=0.2, random_state=2)\n",
        "\n",
        "model = LogisticRegression()\n",
        "model.fit(X_train, Y_train)  # Fit the model with encoded data"
      ],
      "metadata": {
        "colab": {
          "base_uri": "https://localhost:8080/",
          "height": 74
        },
        "id": "leuZcP2Gxka5",
        "outputId": "5e8fe0f7-5593-4818-acde-eb64ebd77f6d"
      },
      "execution_count": null,
      "outputs": [
        {
          "output_type": "execute_result",
          "data": {
            "text/plain": [
              "LogisticRegression()"
            ],
            "text/html": [
              "<style>#sk-container-id-1 {color: black;background-color: white;}#sk-container-id-1 pre{padding: 0;}#sk-container-id-1 div.sk-toggleable {background-color: white;}#sk-container-id-1 label.sk-toggleable__label {cursor: pointer;display: block;width: 100%;margin-bottom: 0;padding: 0.3em;box-sizing: border-box;text-align: center;}#sk-container-id-1 label.sk-toggleable__label-arrow:before {content: \"▸\";float: left;margin-right: 0.25em;color: #696969;}#sk-container-id-1 label.sk-toggleable__label-arrow:hover:before {color: black;}#sk-container-id-1 div.sk-estimator:hover label.sk-toggleable__label-arrow:before {color: black;}#sk-container-id-1 div.sk-toggleable__content {max-height: 0;max-width: 0;overflow: hidden;text-align: left;background-color: #f0f8ff;}#sk-container-id-1 div.sk-toggleable__content pre {margin: 0.2em;color: black;border-radius: 0.25em;background-color: #f0f8ff;}#sk-container-id-1 input.sk-toggleable__control:checked~div.sk-toggleable__content {max-height: 200px;max-width: 100%;overflow: auto;}#sk-container-id-1 input.sk-toggleable__control:checked~label.sk-toggleable__label-arrow:before {content: \"▾\";}#sk-container-id-1 div.sk-estimator input.sk-toggleable__control:checked~label.sk-toggleable__label {background-color: #d4ebff;}#sk-container-id-1 div.sk-label input.sk-toggleable__control:checked~label.sk-toggleable__label {background-color: #d4ebff;}#sk-container-id-1 input.sk-hidden--visually {border: 0;clip: rect(1px 1px 1px 1px);clip: rect(1px, 1px, 1px, 1px);height: 1px;margin: -1px;overflow: hidden;padding: 0;position: absolute;width: 1px;}#sk-container-id-1 div.sk-estimator {font-family: monospace;background-color: #f0f8ff;border: 1px dotted black;border-radius: 0.25em;box-sizing: border-box;margin-bottom: 0.5em;}#sk-container-id-1 div.sk-estimator:hover {background-color: #d4ebff;}#sk-container-id-1 div.sk-parallel-item::after {content: \"\";width: 100%;border-bottom: 1px solid gray;flex-grow: 1;}#sk-container-id-1 div.sk-label:hover label.sk-toggleable__label {background-color: #d4ebff;}#sk-container-id-1 div.sk-serial::before {content: \"\";position: absolute;border-left: 1px solid gray;box-sizing: border-box;top: 0;bottom: 0;left: 50%;z-index: 0;}#sk-container-id-1 div.sk-serial {display: flex;flex-direction: column;align-items: center;background-color: white;padding-right: 0.2em;padding-left: 0.2em;position: relative;}#sk-container-id-1 div.sk-item {position: relative;z-index: 1;}#sk-container-id-1 div.sk-parallel {display: flex;align-items: stretch;justify-content: center;background-color: white;position: relative;}#sk-container-id-1 div.sk-item::before, #sk-container-id-1 div.sk-parallel-item::before {content: \"\";position: absolute;border-left: 1px solid gray;box-sizing: border-box;top: 0;bottom: 0;left: 50%;z-index: -1;}#sk-container-id-1 div.sk-parallel-item {display: flex;flex-direction: column;z-index: 1;position: relative;background-color: white;}#sk-container-id-1 div.sk-parallel-item:first-child::after {align-self: flex-end;width: 50%;}#sk-container-id-1 div.sk-parallel-item:last-child::after {align-self: flex-start;width: 50%;}#sk-container-id-1 div.sk-parallel-item:only-child::after {width: 0;}#sk-container-id-1 div.sk-dashed-wrapped {border: 1px dashed gray;margin: 0 0.4em 0.5em 0.4em;box-sizing: border-box;padding-bottom: 0.4em;background-color: white;}#sk-container-id-1 div.sk-label label {font-family: monospace;font-weight: bold;display: inline-block;line-height: 1.2em;}#sk-container-id-1 div.sk-label-container {text-align: center;}#sk-container-id-1 div.sk-container {/* jupyter's `normalize.less` sets `[hidden] { display: none; }` but bootstrap.min.css set `[hidden] { display: none !important; }` so we also need the `!important` here to be able to override the default hidden behavior on the sphinx rendered scikit-learn.org. See: https://github.com/scikit-learn/scikit-learn/issues/21755 */display: inline-block !important;position: relative;}#sk-container-id-1 div.sk-text-repr-fallback {display: none;}</style><div id=\"sk-container-id-1\" class=\"sk-top-container\"><div class=\"sk-text-repr-fallback\"><pre>LogisticRegression()</pre><b>In a Jupyter environment, please rerun this cell to show the HTML representation or trust the notebook. <br />On GitHub, the HTML representation is unable to render, please try loading this page with nbviewer.org.</b></div><div class=\"sk-container\" hidden><div class=\"sk-item\"><div class=\"sk-estimator sk-toggleable\"><input class=\"sk-toggleable__control sk-hidden--visually\" id=\"sk-estimator-id-1\" type=\"checkbox\" checked><label for=\"sk-estimator-id-1\" class=\"sk-toggleable__label sk-toggleable__label-arrow\">LogisticRegression</label><div class=\"sk-toggleable__content\"><pre>LogisticRegression()</pre></div></div></div></div></div>"
            ]
          },
          "metadata": {},
          "execution_count": 73
        }
      ]
    },
    {
      "cell_type": "code",
      "source": [
        "\n",
        "X_train_prediction = model.predict(X_train)\n",
        "training_data_accuracy = accuracy_score(Y_train, X_train_prediction)\n",
        "print('Accuracy score of the training data : ', training_data_accuracy)\n",
        "\n",
        "#testing data prediction\n",
        "X_test_prediction = model.predict(X_test)\n",
        "test_data_accuracy = accuracy_score(Y_test, X_test_prediction)\n",
        "print('Accuracy score of the test data : ', test_data_accuracy)"
      ],
      "metadata": {
        "colab": {
          "base_uri": "https://localhost:8080/"
        },
        "id": "kCphscCU0K73",
        "outputId": "ca335186-ae48-4ce1-e776-716a74756546"
      },
      "execution_count": null,
      "outputs": [
        {
          "output_type": "stream",
          "name": "stdout",
          "text": [
            "Accuracy score of the training data :  0.583756345177665\n",
            "Accuracy score of the test data :  0.16\n"
          ]
        }
      ]
    },
    {
      "cell_type": "code",
      "source": [
        "batting.info()"
      ],
      "metadata": {
        "colab": {
          "base_uri": "https://localhost:8080/"
        },
        "id": "i-Brr8Hw1F9r",
        "outputId": "4dbf9874-e81a-4137-9120-e9c48f62812a"
      },
      "execution_count": null,
      "outputs": [
        {
          "output_type": "stream",
          "name": "stdout",
          "text": [
            "<class 'pandas.core.frame.DataFrame'>\n",
            "RangeIndex: 247 entries, 0 to 246\n",
            "Data columns (total 12 columns):\n",
            " #   Column  Non-Null Count  Dtype  \n",
            "---  ------  --------------  -----  \n",
            " 0   Player  247 non-null    object \n",
            " 1   Team    247 non-null    object \n",
            " 2   Mat     247 non-null    int64  \n",
            " 3   Inns    247 non-null    int64  \n",
            " 4   NO      247 non-null    int64  \n",
            " 5   Runs    247 non-null    int64  \n",
            " 6   HS      247 non-null    object \n",
            " 7   Ave     247 non-null    float64\n",
            " 8   SR      247 non-null    float64\n",
            " 9   100     247 non-null    int64  \n",
            " 10  50      247 non-null    int64  \n",
            " 11  0       247 non-null    int64  \n",
            "dtypes: float64(2), int64(7), object(3)\n",
            "memory usage: 23.3+ KB\n"
          ]
        }
      ]
    },
    {
      "cell_type": "code",
      "source": [
        "print(R.head())"
      ],
      "metadata": {
        "colab": {
          "base_uri": "https://localhost:8080/"
        },
        "id": "MWVf53D81Hjs",
        "outputId": "16f8e307-8a1a-4917-af58-3961c22a3d58"
      },
      "execution_count": null,
      "outputs": [
        {
          "output_type": "stream",
          "name": "stdout",
          "text": [
            "   Inns  NO   HS  100  50  0\n",
            "0     2   0    1    0   0  1\n",
            "1     6   2  94*    0   1  1\n",
            "2     3   0   42    0   0  0\n",
            "3     1   0   17    0   0  0\n",
            "4     1   0    9    0   0  0\n"
          ]
        }
      ]
    }
  ]
}